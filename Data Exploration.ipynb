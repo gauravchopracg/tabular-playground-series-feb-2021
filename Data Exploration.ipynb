{
 "cells": [
  {
   "cell_type": "code",
   "execution_count": null,
   "id": "political-equipment",
   "metadata": {},
   "outputs": [],
   "source": [
    "!dir"
   ]
  },
  {
   "cell_type": "code",
   "execution_count": null,
   "id": "novel-terminology",
   "metadata": {},
   "outputs": [],
   "source": [
    "import pandas as pd"
   ]
  },
  {
   "cell_type": "code",
   "execution_count": null,
   "id": "catholic-wagner",
   "metadata": {},
   "outputs": [],
   "source": [
    "df = pd.read_csv('train.csv')"
   ]
  },
  {
   "cell_type": "code",
   "execution_count": null,
   "id": "automotive-distributor",
   "metadata": {},
   "outputs": [],
   "source": [
    "df.head()"
   ]
  },
  {
   "cell_type": "code",
   "execution_count": null,
   "id": "flying-banana",
   "metadata": {},
   "outputs": [],
   "source": [
    "df.shape"
   ]
  },
  {
   "cell_type": "markdown",
   "id": "passing-grave",
   "metadata": {},
   "source": [
    "# Getting comfortable with the data\n",
    "* How many features we have? - 26\n",
    "* how to study them individually one by one? - id, categorical"
   ]
  },
  {
   "cell_type": "code",
   "execution_count": null,
   "id": "color-franklin",
   "metadata": {},
   "outputs": [],
   "source": [
    "len(df.columns.tolist())"
   ]
  },
  {
   "cell_type": "code",
   "execution_count": null,
   "id": "democratic-regular",
   "metadata": {},
   "outputs": [],
   "source": [
    "df.columns"
   ]
  },
  {
   "cell_type": "markdown",
   "id": "threatened-compromise",
   "metadata": {},
   "source": [
    "# ID"
   ]
  },
  {
   "cell_type": "code",
   "execution_count": null,
   "id": "secret-brooks",
   "metadata": {},
   "outputs": [],
   "source": [
    "len(df.id.unique().tolist()), df.shape[0]"
   ]
  },
  {
   "cell_type": "code",
   "execution_count": null,
   "id": "presidential-cartoon",
   "metadata": {},
   "outputs": [],
   "source": [
    "df.id"
   ]
  },
  {
   "cell_type": "code",
   "execution_count": null,
   "id": "adequate-serve",
   "metadata": {},
   "outputs": [],
   "source": [
    "# whare are remaining 200000 observations? test.csv\n",
    "499999, 300000, 200000"
   ]
  },
  {
   "cell_type": "code",
   "execution_count": null,
   "id": "outside-popularity",
   "metadata": {},
   "outputs": [],
   "source": [
    "df1 = pd.read_csv('test.csv')"
   ]
  },
  {
   "cell_type": "code",
   "execution_count": null,
   "id": "forbidden-eligibility",
   "metadata": {},
   "outputs": [],
   "source": [
    "df1.head()"
   ]
  },
  {
   "cell_type": "code",
   "execution_count": null,
   "id": "commercial-dream",
   "metadata": {},
   "outputs": [],
   "source": [
    "df1.shape"
   ]
  },
  {
   "cell_type": "code",
   "execution_count": null,
   "id": "bizarre-subdivision",
   "metadata": {},
   "outputs": [],
   "source": [
    "# concatenate train and test set\n",
    "df2 = pd.concat([df, df1])"
   ]
  },
  {
   "cell_type": "code",
   "execution_count": null,
   "id": "monetary-saturn",
   "metadata": {},
   "outputs": [],
   "source": [
    "df2.shape"
   ]
  },
  {
   "cell_type": "code",
   "execution_count": null,
   "id": "novel-lounge",
   "metadata": {},
   "outputs": [],
   "source": [
    "df2.head()"
   ]
  },
  {
   "cell_type": "code",
   "execution_count": null,
   "id": "regional-litigation",
   "metadata": {},
   "outputs": [],
   "source": [
    "df3 = df2.sort_values(by='id', ignore_index=True)"
   ]
  },
  {
   "cell_type": "code",
   "execution_count": null,
   "id": "monthly-squad",
   "metadata": {},
   "outputs": [],
   "source": [
    "# df3.reset_index(inplace=True)"
   ]
  },
  {
   "cell_type": "code",
   "execution_count": null,
   "id": "alone-vulnerability",
   "metadata": {},
   "outputs": [],
   "source": [
    "df3.head()"
   ]
  },
  {
   "cell_type": "code",
   "execution_count": null,
   "id": "hollow-impact",
   "metadata": {},
   "outputs": [],
   "source": [
    "df3.tail()"
   ]
  },
  {
   "cell_type": "code",
   "execution_count": null,
   "id": "limited-milwaukee",
   "metadata": {},
   "outputs": [],
   "source": [
    "!pip install tables"
   ]
  },
  {
   "cell_type": "code",
   "execution_count": null,
   "id": "compliant-berlin",
   "metadata": {},
   "outputs": [],
   "source": [
    "df3.to_hdf('whole_df.h5', key='df')"
   ]
  },
  {
   "cell_type": "markdown",
   "id": "descending-celtic",
   "metadata": {},
   "source": [
    "# Categorical Columns"
   ]
  },
  {
   "cell_type": "code",
   "execution_count": null,
   "id": "painted-closer",
   "metadata": {},
   "outputs": [],
   "source": [
    "df3.head()"
   ]
  },
  {
   "cell_type": "code",
   "execution_count": null,
   "id": "severe-joseph",
   "metadata": {},
   "outputs": [],
   "source": [
    "columns = df3.columns.tolist()\n",
    "columns"
   ]
  },
  {
   "cell_type": "code",
   "execution_count": null,
   "id": "ultimate-gather",
   "metadata": {},
   "outputs": [],
   "source": [
    "cat_col = []\n",
    "for col in columns:\n",
    "    if 'cat' in col:\n",
    "        cat_col.append(col)"
   ]
  },
  {
   "cell_type": "code",
   "execution_count": null,
   "id": "turned-efficiency",
   "metadata": {},
   "outputs": [],
   "source": [
    "cat_col"
   ]
  },
  {
   "cell_type": "code",
   "execution_count": null,
   "id": "invalid-spare",
   "metadata": {},
   "outputs": [],
   "source": [
    "cat_df = df3.loc[:, cat_col].copy()"
   ]
  },
  {
   "cell_type": "code",
   "execution_count": null,
   "id": "inclusive-plumbing",
   "metadata": {},
   "outputs": [],
   "source": [
    "cat_df.head()"
   ]
  },
  {
   "cell_type": "code",
   "execution_count": null,
   "id": "general-glance",
   "metadata": {},
   "outputs": [],
   "source": [
    "cat_df.shape"
   ]
  },
  {
   "cell_type": "code",
   "execution_count": null,
   "id": "infectious-spoke",
   "metadata": {},
   "outputs": [],
   "source": [
    "cat_df.nunique()"
   ]
  },
  {
   "cell_type": "code",
   "execution_count": null,
   "id": "aware-equality",
   "metadata": {},
   "outputs": [],
   "source": [
    "cat_df1 = cat_df.loc[:, cat_df.nunique() == 2].copy()"
   ]
  },
  {
   "cell_type": "code",
   "execution_count": null,
   "id": "religious-facial",
   "metadata": {},
   "outputs": [],
   "source": [
    "cat_df1.head(30)"
   ]
  },
  {
   "cell_type": "code",
   "execution_count": null,
   "id": "altered-tanzania",
   "metadata": {},
   "outputs": [],
   "source": [
    "pd.factorize()"
   ]
  }
 ],
 "metadata": {
  "kernelspec": {
   "display_name": "Python 3",
   "language": "python",
   "name": "python3"
  },
  "language_info": {
   "codemirror_mode": {
    "name": "ipython",
    "version": 3
   },
   "file_extension": ".py",
   "mimetype": "text/x-python",
   "name": "python",
   "nbconvert_exporter": "python",
   "pygments_lexer": "ipython3",
   "version": "3.9.1"
  }
 },
 "nbformat": 4,
 "nbformat_minor": 5
}
