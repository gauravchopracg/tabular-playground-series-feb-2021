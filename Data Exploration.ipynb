{
 "cells": [
  {
   "cell_type": "code",
   "execution_count": null,
   "id": "political-equipment",
   "metadata": {},
   "outputs": [],
   "source": [
    "!dir"
   ]
  },
  {
   "cell_type": "code",
   "execution_count": null,
   "id": "novel-terminology",
   "metadata": {},
   "outputs": [],
   "source": [
    "import pandas as pd"
   ]
  },
  {
   "cell_type": "code",
   "execution_count": null,
   "id": "catholic-wagner",
   "metadata": {},
   "outputs": [],
   "source": [
    "df = pd.read_csv('train.csv')"
   ]
  },
  {
   "cell_type": "code",
   "execution_count": null,
   "id": "automotive-distributor",
   "metadata": {},
   "outputs": [],
   "source": [
    "df.head()"
   ]
  },
  {
   "cell_type": "code",
   "execution_count": null,
   "id": "flying-banana",
   "metadata": {},
   "outputs": [],
   "source": [
    "df.shape"
   ]
  },
  {
   "cell_type": "markdown",
   "id": "passing-grave",
   "metadata": {},
   "source": [
    "# Getting comfortable with the data\n",
    "* How many features we have? - 26\n",
    "* how to study them individually one by one? - id, categorical"
   ]
  },
  {
   "cell_type": "code",
   "execution_count": null,
   "id": "color-franklin",
   "metadata": {},
   "outputs": [],
   "source": [
    "len(df.columns.tolist())"
   ]
  },
  {
   "cell_type": "code",
   "execution_count": null,
   "id": "democratic-regular",
   "metadata": {},
   "outputs": [],
   "source": [
    "df.columns"
   ]
  },
  {
   "cell_type": "markdown",
   "id": "threatened-compromise",
   "metadata": {},
   "source": [
    "# ID"
   ]
  },
  {
   "cell_type": "code",
   "execution_count": null,
   "id": "secret-brooks",
   "metadata": {},
   "outputs": [],
   "source": [
    "len(df.id.unique().tolist()), df.shape[0]"
   ]
  },
  {
   "cell_type": "code",
   "execution_count": null,
   "id": "presidential-cartoon",
   "metadata": {},
   "outputs": [],
   "source": [
    "df.id"
   ]
  },
  {
   "cell_type": "code",
   "execution_count": null,
   "id": "adequate-serve",
   "metadata": {},
   "outputs": [],
   "source": [
    "# whare are remaining 200000 observations? test.csv\n",
    "499999, 300000, 200000"
   ]
  },
  {
   "cell_type": "code",
   "execution_count": null,
   "id": "outside-popularity",
   "metadata": {},
   "outputs": [],
   "source": [
    "df1 = pd.read_csv('test.csv')"
   ]
  },
  {
   "cell_type": "code",
   "execution_count": null,
   "id": "forbidden-eligibility",
   "metadata": {},
   "outputs": [],
   "source": [
    "df1.head()"
   ]
  },
  {
   "cell_type": "code",
   "execution_count": null,
   "id": "commercial-dream",
   "metadata": {},
   "outputs": [],
   "source": [
    "df1.shape"
   ]
  },
  {
   "cell_type": "code",
   "execution_count": null,
   "id": "bizarre-subdivision",
   "metadata": {},
   "outputs": [],
   "source": [
    "# concatenate train and test set\n",
    "df2 = pd.concat([df, df1])"
   ]
  },
  {
   "cell_type": "code",
   "execution_count": null,
   "id": "monetary-saturn",
   "metadata": {},
   "outputs": [],
   "source": [
    "df2.shape"
   ]
  },
  {
   "cell_type": "code",
   "execution_count": null,
   "id": "novel-lounge",
   "metadata": {},
   "outputs": [],
   "source": [
    "df2.head()"
   ]
  },
  {
   "cell_type": "code",
   "execution_count": null,
   "id": "regional-litigation",
   "metadata": {},
   "outputs": [],
   "source": [
    "df3 = df2.sort_values(by='id', ignore_index=True)"
   ]
  },
  {
   "cell_type": "code",
   "execution_count": null,
   "id": "monthly-squad",
   "metadata": {},
   "outputs": [],
   "source": [
    "# df3.reset_index(inplace=True)"
   ]
  },
  {
   "cell_type": "code",
   "execution_count": null,
   "id": "alone-vulnerability",
   "metadata": {},
   "outputs": [],
   "source": [
    "df3.head()"
   ]
  },
  {
   "cell_type": "code",
   "execution_count": null,
   "id": "hollow-impact",
   "metadata": {},
   "outputs": [],
   "source": [
    "df3.tail()"
   ]
  },
  {
   "cell_type": "code",
   "execution_count": null,
   "id": "limited-milwaukee",
   "metadata": {},
   "outputs": [],
   "source": [
    "!pip install tables"
   ]
  },
  {
   "cell_type": "code",
   "execution_count": null,
   "id": "compliant-berlin",
   "metadata": {},
   "outputs": [],
   "source": [
    "df3.to_hdf('whole_df.h5', key='df')"
   ]
  },
  {
   "cell_type": "markdown",
   "id": "descending-celtic",
   "metadata": {},
   "source": [
    "# Categorical Columns"
   ]
  },
  {
   "cell_type": "code",
   "execution_count": null,
   "id": "painted-closer",
   "metadata": {},
   "outputs": [],
   "source": [
    "df3.head()"
   ]
  },
  {
   "cell_type": "code",
   "execution_count": null,
   "id": "severe-joseph",
   "metadata": {},
   "outputs": [],
   "source": [
    "columns = df3.columns.tolist()\n",
    "columns"
   ]
  },
  {
   "cell_type": "code",
   "execution_count": null,
   "id": "ultimate-gather",
   "metadata": {},
   "outputs": [],
   "source": [
    "cat_col = []\n",
    "for col in columns:\n",
    "    if 'cat' in col:\n",
    "        cat_col.append(col)"
   ]
  },
  {
   "cell_type": "code",
   "execution_count": null,
   "id": "turned-efficiency",
   "metadata": {},
   "outputs": [],
   "source": [
    "cat_col"
   ]
  },
  {
   "cell_type": "code",
   "execution_count": null,
   "id": "invalid-spare",
   "metadata": {},
   "outputs": [],
   "source": [
    "cat_df = df3.loc[:, cat_col].copy()"
   ]
  },
  {
   "cell_type": "code",
   "execution_count": null,
   "id": "inclusive-plumbing",
   "metadata": {},
   "outputs": [],
   "source": [
    "cat_df.head()"
   ]
  },
  {
   "cell_type": "code",
   "execution_count": null,
   "id": "general-glance",
   "metadata": {},
   "outputs": [],
   "source": [
    "cat_df.shape"
   ]
  },
  {
   "cell_type": "code",
   "execution_count": null,
   "id": "infectious-spoke",
   "metadata": {},
   "outputs": [],
   "source": [
    "cat_df.nunique()"
   ]
  },
  {
   "cell_type": "markdown",
   "id": "established-november",
   "metadata": {},
   "source": [
    "# 2 unique categorical columns"
   ]
  },
  {
   "cell_type": "code",
   "execution_count": null,
   "id": "aware-equality",
   "metadata": {},
   "outputs": [],
   "source": [
    "cat_df1 = cat_df.loc[:, cat_df.nunique() == 2].copy()"
   ]
  },
  {
   "cell_type": "code",
   "execution_count": null,
   "id": "religious-facial",
   "metadata": {},
   "outputs": [],
   "source": [
    "cat_df1.head(30)"
   ]
  },
  {
   "cell_type": "code",
   "execution_count": null,
   "id": "eight-federation",
   "metadata": {},
   "outputs": [],
   "source": [
    "train_enc =  pd.DataFrame(index = cat_df1.index)\n",
    "\n",
    "for col in cat_df1.columns:\n",
    "    train_enc[col] = cat_df1[col].factorize()[0]"
   ]
  },
  {
   "cell_type": "code",
   "execution_count": null,
   "id": "altered-tanzania",
   "metadata": {},
   "outputs": [],
   "source": [
    "train_enc"
   ]
  },
  {
   "cell_type": "code",
   "execution_count": null,
   "id": "enabling-business",
   "metadata": {},
   "outputs": [],
   "source": [
    "train_enc.head(30)"
   ]
  },
  {
   "cell_type": "markdown",
   "id": "better-associate",
   "metadata": {},
   "source": [
    "# 4 unique categorical columns"
   ]
  },
  {
   "cell_type": "code",
   "execution_count": null,
   "id": "alpha-mason",
   "metadata": {},
   "outputs": [],
   "source": [
    "cat_df1 = cat_df.loc[:, cat_df.nunique() == 4].copy()"
   ]
  },
  {
   "cell_type": "code",
   "execution_count": null,
   "id": "competitive-consequence",
   "metadata": {},
   "outputs": [],
   "source": [
    "cat_df1.head(30)"
   ]
  },
  {
   "cell_type": "code",
   "execution_count": null,
   "id": "mathematical-frame",
   "metadata": {},
   "outputs": [],
   "source": [
    "train_enc =  pd.DataFrame(index = cat_df1.index)\n",
    "\n",
    "for col in cat_df1.columns:\n",
    "    train_enc[col] = cat_df1[col].factorize()[0]"
   ]
  },
  {
   "cell_type": "code",
   "execution_count": null,
   "id": "warming-consortium",
   "metadata": {},
   "outputs": [],
   "source": [
    "train_enc"
   ]
  },
  {
   "cell_type": "code",
   "execution_count": null,
   "id": "violent-initial",
   "metadata": {},
   "outputs": [],
   "source": [
    "train_enc.head(30)"
   ]
  },
  {
   "cell_type": "markdown",
   "id": "continent-companion",
   "metadata": {},
   "source": [
    "# 8 unique categorical columns"
   ]
  },
  {
   "cell_type": "code",
   "execution_count": null,
   "id": "standard-adelaide",
   "metadata": {},
   "outputs": [],
   "source": [
    "cat_df1 = cat_df.loc[:, cat_df.nunique() == 8].copy()"
   ]
  },
  {
   "cell_type": "code",
   "execution_count": null,
   "id": "western-necklace",
   "metadata": {},
   "outputs": [],
   "source": [
    "cat_df1.head(30)"
   ]
  },
  {
   "cell_type": "code",
   "execution_count": null,
   "id": "nutritional-elimination",
   "metadata": {},
   "outputs": [],
   "source": [
    "train_enc =  pd.DataFrame(index = cat_df1.index)\n",
    "\n",
    "for col in cat_df1.columns:\n",
    "    train_enc[col] = cat_df1[col].factorize()[0]"
   ]
  },
  {
   "cell_type": "code",
   "execution_count": null,
   "id": "comparative-dependence",
   "metadata": {},
   "outputs": [],
   "source": [
    "train_enc"
   ]
  },
  {
   "cell_type": "code",
   "execution_count": null,
   "id": "golden-logging",
   "metadata": {},
   "outputs": [],
   "source": [
    "train_enc.head(30)"
   ]
  },
  {
   "cell_type": "markdown",
   "id": "unlike-external",
   "metadata": {},
   "source": [
    "# 7 unique categorical columns"
   ]
  },
  {
   "cell_type": "code",
   "execution_count": null,
   "id": "prerequisite-parking",
   "metadata": {},
   "outputs": [],
   "source": [
    "cat_df1 = cat_df.loc[:, cat_df.nunique() == 7].copy()"
   ]
  },
  {
   "cell_type": "code",
   "execution_count": null,
   "id": "painful-freight",
   "metadata": {},
   "outputs": [],
   "source": [
    "cat_df1.head(30)"
   ]
  },
  {
   "cell_type": "code",
   "execution_count": null,
   "id": "informed-rolling",
   "metadata": {},
   "outputs": [],
   "source": [
    "train_enc =  pd.DataFrame(index = cat_df1.index)\n",
    "\n",
    "for col in cat_df1.columns:\n",
    "    train_enc[col] = cat_df1[col].factorize()[0]"
   ]
  },
  {
   "cell_type": "code",
   "execution_count": null,
   "id": "solar-feeding",
   "metadata": {},
   "outputs": [],
   "source": [
    "train_enc"
   ]
  },
  {
   "cell_type": "code",
   "execution_count": null,
   "id": "senior-boating",
   "metadata": {},
   "outputs": [],
   "source": [
    "train_enc.head(30)"
   ]
  },
  {
   "cell_type": "markdown",
   "id": "primary-huntington",
   "metadata": {},
   "source": [
    "# 15 unique categorical columns"
   ]
  },
  {
   "cell_type": "code",
   "execution_count": null,
   "id": "relevant-dietary",
   "metadata": {},
   "outputs": [],
   "source": [
    "cat_df1 = cat_df.loc[:, cat_df.nunique() == 15].copy()"
   ]
  },
  {
   "cell_type": "code",
   "execution_count": null,
   "id": "aerial-luxury",
   "metadata": {},
   "outputs": [],
   "source": [
    "cat_df1.head(30)"
   ]
  },
  {
   "cell_type": "code",
   "execution_count": null,
   "id": "signed-chile",
   "metadata": {},
   "outputs": [],
   "source": [
    "train_enc =  pd.DataFrame(index = cat_df1.index)\n",
    "\n",
    "for col in cat_df1.columns:\n",
    "    train_enc[col] = cat_df1[col].factorize()[0]"
   ]
  },
  {
   "cell_type": "code",
   "execution_count": null,
   "id": "public-index",
   "metadata": {},
   "outputs": [],
   "source": [
    "train_enc"
   ]
  },
  {
   "cell_type": "code",
   "execution_count": null,
   "id": "offshore-metabolism",
   "metadata": {},
   "outputs": [],
   "source": [
    "train_enc.head(30)"
   ]
  },
  {
   "cell_type": "markdown",
   "id": "electric-evolution",
   "metadata": {},
   "source": [
    "# Continous Columns"
   ]
  },
  {
   "cell_type": "code",
   "execution_count": null,
   "id": "environmental-avenue",
   "metadata": {},
   "outputs": [],
   "source": [
    "df3.head()"
   ]
  },
  {
   "cell_type": "code",
   "execution_count": null,
   "id": "exposed-consistency",
   "metadata": {},
   "outputs": [],
   "source": [
    "columns = df3.columns.tolist()\n",
    "columns"
   ]
  },
  {
   "cell_type": "code",
   "execution_count": null,
   "id": "tutorial-commonwealth",
   "metadata": {},
   "outputs": [],
   "source": [
    "con_col = []\n",
    "for col in columns:\n",
    "    if 'cont' in col:\n",
    "        con_col.append(col)"
   ]
  },
  {
   "cell_type": "code",
   "execution_count": null,
   "id": "classical-basin",
   "metadata": {
    "scrolled": true
   },
   "outputs": [],
   "source": [
    "con_col"
   ]
  },
  {
   "cell_type": "code",
   "execution_count": null,
   "id": "neutral-belarus",
   "metadata": {},
   "outputs": [],
   "source": [
    "con_df = df3.loc[:, con_col].copy()"
   ]
  },
  {
   "cell_type": "code",
   "execution_count": null,
   "id": "pregnant-celebrity",
   "metadata": {
    "scrolled": true
   },
   "outputs": [],
   "source": [
    "con_df.head()"
   ]
  },
  {
   "cell_type": "code",
   "execution_count": null,
   "id": "announced-cameroon",
   "metadata": {},
   "outputs": [],
   "source": [
    "con_df.shape"
   ]
  },
  {
   "cell_type": "code",
   "execution_count": null,
   "id": "subtle-riverside",
   "metadata": {
    "scrolled": true
   },
   "outputs": [],
   "source": [
    "con_df.nunique().sort_values()"
   ]
  },
  {
   "cell_type": "code",
   "execution_count": null,
   "id": "civilian-sunrise",
   "metadata": {
    "scrolled": true
   },
   "outputs": [],
   "source": [
    "con_df.describe()"
   ]
  },
  {
   "cell_type": "markdown",
   "id": "monetary-columbia",
   "metadata": {},
   "source": [
    "# Target"
   ]
  },
  {
   "cell_type": "code",
   "execution_count": null,
   "id": "center-basket",
   "metadata": {},
   "outputs": [],
   "source": [
    "df3['target']"
   ]
  },
  {
   "cell_type": "code",
   "execution_count": null,
   "id": "textile-oracle",
   "metadata": {},
   "outputs": [],
   "source": [
    "df.shape, df1.shape"
   ]
  },
  {
   "cell_type": "code",
   "execution_count": null,
   "id": "personal-promotion",
   "metadata": {},
   "outputs": [],
   "source": [
    "df.id.tolist()"
   ]
  },
  {
   "cell_type": "code",
   "execution_count": null,
   "id": "original-venue",
   "metadata": {},
   "outputs": [],
   "source": []
  }
 ],
 "metadata": {
  "kernelspec": {
   "display_name": "Python 3",
   "language": "python",
   "name": "python3"
  },
  "language_info": {
   "codemirror_mode": {
    "name": "ipython",
    "version": 3
   },
   "file_extension": ".py",
   "mimetype": "text/x-python",
   "name": "python",
   "nbconvert_exporter": "python",
   "pygments_lexer": "ipython3",
   "version": "3.9.1"
  }
 },
 "nbformat": 4,
 "nbformat_minor": 5
}
