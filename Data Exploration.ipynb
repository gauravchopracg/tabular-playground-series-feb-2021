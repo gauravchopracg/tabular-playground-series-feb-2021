{
 "cells": [
  {
   "cell_type": "code",
   "execution_count": null,
   "id": "second-burke",
   "metadata": {},
   "outputs": [],
   "source": [
    "import pandas as pd"
   ]
  },
  {
   "cell_type": "code",
   "execution_count": null,
   "id": "prostate-designation",
   "metadata": {},
   "outputs": [],
   "source": [
    "train = pd.read_csv('train.csv')"
   ]
  },
  {
   "cell_type": "code",
   "execution_count": null,
   "id": "military-divide",
   "metadata": {},
   "outputs": [],
   "source": [
    "test = pd.read_csv('test.csv')"
   ]
  },
  {
   "cell_type": "code",
   "execution_count": null,
   "id": "minimal-repeat",
   "metadata": {},
   "outputs": [],
   "source": [
    "train.shape, test.shape"
   ]
  },
  {
   "cell_type": "code",
   "execution_count": null,
   "id": "opposed-irish",
   "metadata": {},
   "outputs": [],
   "source": [
    "train.nunique()"
   ]
  },
  {
   "cell_type": "code",
   "execution_count": null,
   "id": "super-island",
   "metadata": {},
   "outputs": [],
   "source": [
    "test.nunique()"
   ]
  },
  {
   "cell_type": "code",
   "execution_count": null,
   "id": "underlying-modeling",
   "metadata": {},
   "outputs": [],
   "source": [
    "test['set'] = 'test'"
   ]
  },
  {
   "cell_type": "code",
   "execution_count": null,
   "id": "unnecessary-variance",
   "metadata": {},
   "outputs": [],
   "source": [
    "train['set'] = 'train'"
   ]
  },
  {
   "cell_type": "code",
   "execution_count": null,
   "id": "infinite-genius",
   "metadata": {},
   "outputs": [],
   "source": [
    "# concatenate train and test set\n",
    "whole = pd.concat([train, test])"
   ]
  },
  {
   "cell_type": "code",
   "execution_count": null,
   "id": "direct-editor",
   "metadata": {},
   "outputs": [],
   "source": [
    "whole = whole.sort_values(by='id', ignore_index=True)"
   ]
  },
  {
   "cell_type": "code",
   "execution_count": null,
   "id": "polyphonic-start",
   "metadata": {},
   "outputs": [],
   "source": [
    "whole.nunique()"
   ]
  },
  {
   "cell_type": "code",
   "execution_count": null,
   "id": "hydraulic-bread",
   "metadata": {},
   "outputs": [],
   "source": [
    "train_enc =  pd.DataFrame(index = train.index)\n",
    "\n",
    "for col in whole.columns:\n",
    "    train_enc[col] = train[col].factorize()[0]"
   ]
  },
  {
   "cell_type": "code",
   "execution_count": null,
   "id": "specified-pilot",
   "metadata": {},
   "outputs": [],
   "source": [
    "import numpy as np"
   ]
  },
  {
   "cell_type": "code",
   "execution_count": null,
   "id": "changed-advice",
   "metadata": {},
   "outputs": [],
   "source": [
    "dup_cols = {}\n",
    "\n",
    "for i, c1 in enumerate(train_enc.columns):\n",
    "    for c2 in train_enc.columns[i + 1:]:\n",
    "        if c2 not in dup_cols and np.all(train_enc[c1] == train_enc[c2]):\n",
    "            dup_cols[c2] = c1"
   ]
  },
  {
   "cell_type": "code",
   "execution_count": null,
   "id": "reliable-albania",
   "metadata": {},
   "outputs": [],
   "source": [
    "dup_cols"
   ]
  },
  {
   "cell_type": "code",
   "execution_count": null,
   "id": "assumed-haven",
   "metadata": {},
   "outputs": [],
   "source": [
    "train.nunique().sort_values()"
   ]
  },
  {
   "cell_type": "code",
   "execution_count": null,
   "id": "attempted-somewhere",
   "metadata": {},
   "outputs": [],
   "source": [
    "columns = whole.columns.tolist()"
   ]
  },
  {
   "cell_type": "code",
   "execution_count": null,
   "id": "personal-hobby",
   "metadata": {},
   "outputs": [],
   "source": [
    "cat_col = []\n",
    "for col in columns:\n",
    "    if 'cat' in col:\n",
    "        cat_col.append(col)"
   ]
  },
  {
   "cell_type": "code",
   "execution_count": null,
   "id": "ignored-coupon",
   "metadata": {},
   "outputs": [],
   "source": [
    "con_col = []\n",
    "for col in columns:\n",
    "    if 'cont' in col:\n",
    "        con_col.append(col)"
   ]
  },
  {
   "cell_type": "code",
   "execution_count": null,
   "id": "acceptable-hometown",
   "metadata": {},
   "outputs": [],
   "source": [
    "train_cat = train.loc[:, cat_col].copy()"
   ]
  },
  {
   "cell_type": "code",
   "execution_count": null,
   "id": "latter-problem",
   "metadata": {},
   "outputs": [],
   "source": [
    "test_cat = test.loc[:, cat_col].copy()"
   ]
  },
  {
   "cell_type": "code",
   "execution_count": null,
   "id": "basic-guest",
   "metadata": {},
   "outputs": [],
   "source": [
    "train_cont = train.loc[:, con_col].copy()"
   ]
  },
  {
   "cell_type": "code",
   "execution_count": null,
   "id": "usual-platinum",
   "metadata": {},
   "outputs": [],
   "source": [
    "test_cont = test.loc[:, con_col].copy()"
   ]
  },
  {
   "cell_type": "code",
   "execution_count": null,
   "id": "contained-century",
   "metadata": {},
   "outputs": [],
   "source": [
    "# train_enc = pd.DataFrame(index = train_cat.index)\n",
    "\n",
    "for col in train_cat.columns:\n",
    "    train[col] = train[col].factorize()[0]"
   ]
  },
  {
   "cell_type": "code",
   "execution_count": null,
   "id": "eastern-roulette",
   "metadata": {},
   "outputs": [],
   "source": [
    "# test_enc = pd.DataFrame(index = test_cat.index)\n",
    "\n",
    "for col in test_cat.columns:\n",
    "    test[col] = test[col].factorize()[0]"
   ]
  },
  {
   "cell_type": "code",
   "execution_count": null,
   "id": "sensitive-definition",
   "metadata": {},
   "outputs": [],
   "source": [
    "whole.nunique().sort_values()"
   ]
  },
  {
   "cell_type": "code",
   "execution_count": null,
   "id": "engaging-stereo",
   "metadata": {},
   "outputs": [],
   "source": [
    "train.head().T"
   ]
  },
  {
   "cell_type": "code",
   "execution_count": null,
   "id": "requested-reservation",
   "metadata": {},
   "outputs": [],
   "source": [
    "# what does id column tell us? a new customer to claim insurance?\n",
    "# what does binary feature tell us? is_holiday? \n",
    "# what does tertiary feature tell us? \n",
    "# what does 7 week feature tell us? days?\n",
    "# what does 15 value feature tell us? "
   ]
  },
  {
   "cell_type": "code",
   "execution_count": null,
   "id": "normal-disposition",
   "metadata": {
    "scrolled": true
   },
   "outputs": [],
   "source": [
    "nunique = train.nunique(dropna=False)\n",
    "nunique"
   ]
  },
  {
   "cell_type": "code",
   "execution_count": null,
   "id": "funny-dairy",
   "metadata": {},
   "outputs": [],
   "source": [
    "mask = (nunique.astype(float)/train.shape[0] > 0.9)\n",
    "train.loc[:, mask]"
   ]
  },
  {
   "cell_type": "code",
   "execution_count": null,
   "id": "immediate-milan",
   "metadata": {},
   "outputs": [],
   "source": [
    "train.head()"
   ]
  },
  {
   "cell_type": "code",
   "execution_count": null,
   "id": "completed-listening",
   "metadata": {},
   "outputs": [],
   "source": [
    "train.tail()"
   ]
  },
  {
   "cell_type": "code",
   "execution_count": null,
   "id": "sorted-invalid",
   "metadata": {},
   "outputs": [],
   "source": [
    "train['cat4'].value_counts()"
   ]
  },
  {
   "cell_type": "code",
   "execution_count": null,
   "id": "dressed-clerk",
   "metadata": {},
   "outputs": [],
   "source": [
    "test['cat4'].value_counts()"
   ]
  },
  {
   "cell_type": "code",
   "execution_count": null,
   "id": "modular-success",
   "metadata": {},
   "outputs": [],
   "source": [
    "train.id.nunique(), train.shape[0]"
   ]
  },
  {
   "cell_type": "code",
   "execution_count": null,
   "id": "treated-modeling",
   "metadata": {},
   "outputs": [],
   "source": [
    "test.id.nunique(), test.shape[0]"
   ]
  },
  {
   "cell_type": "code",
   "execution_count": null,
   "id": "inside-lexington",
   "metadata": {},
   "outputs": [],
   "source": [
    "train_cont.columns"
   ]
  },
  {
   "cell_type": "code",
   "execution_count": null,
   "id": "incorporated-profile",
   "metadata": {},
   "outputs": [],
   "source": [
    "test_cont['cont13'].value_counts().sort_index()"
   ]
  },
  {
   "cell_type": "code",
   "execution_count": null,
   "id": "comic-marsh",
   "metadata": {},
   "outputs": [],
   "source": [
    "train_cont['cont13'].value_counts().sort_index()"
   ]
  },
  {
   "cell_type": "code",
   "execution_count": null,
   "id": "macro-lemon",
   "metadata": {},
   "outputs": [],
   "source": [
    "import matplotlib.pyplot as plt\n",
    "import numpy as np\n",
    "\n",
    "# visualize every possible thing in the dataset\n",
    "# https://matplotlib.org/tutorials/index.html"
   ]
  },
  {
   "cell_type": "code",
   "execution_count": null,
   "id": "advised-pencil",
   "metadata": {},
   "outputs": [],
   "source": [
    "train.columns"
   ]
  },
  {
   "cell_type": "code",
   "execution_count": null,
   "id": "afraid-shark",
   "metadata": {},
   "outputs": [],
   "source": [
    "test.columns"
   ]
  },
  {
   "cell_type": "code",
   "execution_count": null,
   "id": "false-american",
   "metadata": {},
   "outputs": [],
   "source": [
    "whole"
   ]
  },
  {
   "cell_type": "code",
   "execution_count": null,
   "id": "verbal-attribute",
   "metadata": {},
   "outputs": [],
   "source": [
    "whole['set'] = whole['set'].factorize()[0]"
   ]
  },
  {
   "cell_type": "code",
   "execution_count": null,
   "id": "oriental-personality",
   "metadata": {},
   "outputs": [],
   "source": [
    "# plot ids w.r.t set: train and test\n",
    "x = whole['cont13'].values\n",
    "y = whole['set'].values"
   ]
  },
  {
   "cell_type": "code",
   "execution_count": null,
   "id": "first-highland",
   "metadata": {},
   "outputs": [],
   "source": [
    "plt.scatter(range(len(x)), x, c=y);"
   ]
  },
  {
   "cell_type": "code",
   "execution_count": null,
   "id": "vocal-protection",
   "metadata": {},
   "outputs": [],
   "source": [
    "plt.scatter(range(len(train['cont6'])), train['cont6'], c=train['cat7']);"
   ]
  },
  {
   "cell_type": "code",
   "execution_count": null,
   "id": "embedded-travel",
   "metadata": {},
   "outputs": [],
   "source": [
    "plt.scatter(range(len(test['cont6'])), test['cont6'], c=test['cat7']);"
   ]
  },
  {
   "cell_type": "code",
   "execution_count": null,
   "id": "duplicate-comment",
   "metadata": {
    "scrolled": true
   },
   "outputs": [],
   "source": [
    "train['cat3'].value_counts()"
   ]
  },
  {
   "cell_type": "code",
   "execution_count": null,
   "id": "desirable-invasion",
   "metadata": {},
   "outputs": [],
   "source": [
    "plt.hist(train['cat3']);"
   ]
  },
  {
   "cell_type": "code",
   "execution_count": null,
   "id": "medieval-japan",
   "metadata": {},
   "outputs": [],
   "source": [
    "test['cat3'].value_counts()"
   ]
  },
  {
   "cell_type": "code",
   "execution_count": null,
   "id": "preceding-photograph",
   "metadata": {},
   "outputs": [],
   "source": [
    "# why does test plot sorted by 0,1,2,3?\n",
    "plt.hist(test['cat3']);"
   ]
  },
  {
   "cell_type": "code",
   "execution_count": null,
   "id": "excessive-annex",
   "metadata": {},
   "outputs": [],
   "source": [
    "# what does sorting of feature value tell us?"
   ]
  },
  {
   "cell_type": "code",
   "execution_count": null,
   "id": "advanced-license",
   "metadata": {
    "scrolled": true
   },
   "outputs": [],
   "source": [
    "train['cat6'].value_counts()"
   ]
  },
  {
   "cell_type": "code",
   "execution_count": null,
   "id": "directed-confirmation",
   "metadata": {},
   "outputs": [],
   "source": [
    "plt.hist(train['cat6']);"
   ]
  },
  {
   "cell_type": "code",
   "execution_count": null,
   "id": "romantic-calculator",
   "metadata": {},
   "outputs": [],
   "source": [
    "test['cat6'].value_counts()"
   ]
  },
  {
   "cell_type": "code",
   "execution_count": null,
   "id": "static-silence",
   "metadata": {},
   "outputs": [],
   "source": [
    "# why does test plot sorted by 0,1,2,3?\n",
    "plt.hist(test['cat6']);"
   ]
  },
  {
   "cell_type": "code",
   "execution_count": null,
   "id": "assisted-daisy",
   "metadata": {
    "scrolled": false
   },
   "outputs": [],
   "source": [
    "train['cat7'].value_counts()"
   ]
  },
  {
   "cell_type": "code",
   "execution_count": null,
   "id": "worth-crawford",
   "metadata": {},
   "outputs": [],
   "source": [
    "plt.hist(train['cat7']);"
   ]
  },
  {
   "cell_type": "code",
   "execution_count": null,
   "id": "fantastic-mistake",
   "metadata": {},
   "outputs": [],
   "source": [
    "test['cat7'].value_counts()"
   ]
  },
  {
   "cell_type": "code",
   "execution_count": null,
   "id": "professional-chemical",
   "metadata": {},
   "outputs": [],
   "source": [
    "# why does test plot sorted by 0,1,2,3?\n",
    "plt.hist(test['cat7']);"
   ]
  },
  {
   "cell_type": "code",
   "execution_count": null,
   "id": "built-greensboro",
   "metadata": {
    "scrolled": true
   },
   "outputs": [],
   "source": [
    "train['cat9'].value_counts()"
   ]
  },
  {
   "cell_type": "code",
   "execution_count": null,
   "id": "orange-fundamentals",
   "metadata": {},
   "outputs": [],
   "source": [
    "plt.hist(train['cat9']);"
   ]
  },
  {
   "cell_type": "code",
   "execution_count": null,
   "id": "destroyed-puzzle",
   "metadata": {},
   "outputs": [],
   "source": [
    "test['cat9'].value_counts()"
   ]
  },
  {
   "cell_type": "code",
   "execution_count": null,
   "id": "distinguished-regulation",
   "metadata": {},
   "outputs": [],
   "source": [
    "# why does test plot sorted by 0,1,2,3?\n",
    "plt.hist(test['cat9']);"
   ]
  },
  {
   "cell_type": "code",
   "execution_count": null,
   "id": "broke-teacher",
   "metadata": {
    "scrolled": true
   },
   "outputs": [],
   "source": [
    "train['cont11'].value_counts()"
   ]
  },
  {
   "cell_type": "code",
   "execution_count": null,
   "id": "pretty-runner",
   "metadata": {},
   "outputs": [],
   "source": [
    "plt.hist(train['cont11']);"
   ]
  },
  {
   "cell_type": "code",
   "execution_count": null,
   "id": "cordless-delay",
   "metadata": {},
   "outputs": [],
   "source": [
    "test['cont11'].value_counts()"
   ]
  },
  {
   "cell_type": "code",
   "execution_count": null,
   "id": "severe-consolidation",
   "metadata": {},
   "outputs": [],
   "source": [
    "# why does test plot sorted by 0,1,2,3?\n",
    "plt.hist(test['cont11']);"
   ]
  },
  {
   "cell_type": "code",
   "execution_count": null,
   "id": "restricted-archives",
   "metadata": {},
   "outputs": [],
   "source": [
    "# cont0, cont1, cont2, cont3, cont4, cont6, cont8, cont9, cont10, cont11 train and test plot are same?"
   ]
  },
  {
   "cell_type": "code",
   "execution_count": null,
   "id": "broke-amino",
   "metadata": {},
   "outputs": [],
   "source": [
    "# what category creates difference between train and test set?\n",
    "train_g = train.groupby(['cat1', 'cat3', 'cat5'])"
   ]
  },
  {
   "cell_type": "code",
   "execution_count": null,
   "id": "lined-benefit",
   "metadata": {},
   "outputs": [],
   "source": [
    "train_g.size()"
   ]
  },
  {
   "cell_type": "code",
   "execution_count": null,
   "id": "subject-consortium",
   "metadata": {},
   "outputs": [],
   "source": [
    "train_g.cont10.mean()"
   ]
  },
  {
   "cell_type": "code",
   "execution_count": null,
   "id": "other-dodge",
   "metadata": {},
   "outputs": [],
   "source": [
    "import matplotlib.pyplot as plt\n",
    "\n",
    "# and for each index show average relative date versus \n",
    "# the number of rows with that index\n",
    "plt.figure(figsize=(12,12))\n",
    "# what does this graph tell us? \n",
    "plt.scatter(train_g.cont10.mean(),train_g.size(), s=20, c='b')\n",
    "plt.xlabel('Group mean relative date')\n",
    "plt.ylabel('Group size')\n",
    "plt.ylim(-2, 30)\n",
    "plt.title('Train');"
   ]
  },
  {
   "cell_type": "code",
   "execution_count": null,
   "id": "fewer-alberta",
   "metadata": {},
   "outputs": [],
   "source": [
    "test_g = test.groupby(['cat1', 'cat3', 'cat5'])"
   ]
  },
  {
   "cell_type": "code",
   "execution_count": null,
   "id": "instructional-newcastle",
   "metadata": {},
   "outputs": [],
   "source": [
    "test_g.size()"
   ]
  },
  {
   "cell_type": "code",
   "execution_count": null,
   "id": "latest-speaker",
   "metadata": {},
   "outputs": [],
   "source": [
    "test_g.cont10.mean()"
   ]
  },
  {
   "cell_type": "code",
   "execution_count": null,
   "id": "billion-toner",
   "metadata": {},
   "outputs": [],
   "source": [
    "import matplotlib.pyplot as plt\n",
    "\n",
    "# what does it tell us?\n",
    "# and for each index show average relative date versus \n",
    "# the number of rows with that index\n",
    "plt.figure(figsize=(12,12))\n",
    "plt.scatter(test_g.cont10.mean(),test_g.size(), s=20, c='b')\n",
    "plt.xlabel('Group mean relative date')\n",
    "plt.ylabel('Group size')\n",
    "plt.ylim(-2, 30)\n",
    "plt.title('Test');"
   ]
  },
  {
   "cell_type": "code",
   "execution_count": null,
   "id": "political-equipment",
   "metadata": {},
   "outputs": [],
   "source": [
    "!dir"
   ]
  },
  {
   "cell_type": "code",
   "execution_count": null,
   "id": "novel-terminology",
   "metadata": {},
   "outputs": [],
   "source": [
    "import pandas as pd"
   ]
  },
  {
   "cell_type": "code",
   "execution_count": null,
   "id": "catholic-wagner",
   "metadata": {},
   "outputs": [],
   "source": [
    "train = pd.read_csv('train.csv')"
   ]
  },
  {
   "cell_type": "code",
   "execution_count": null,
   "id": "automotive-distributor",
   "metadata": {},
   "outputs": [],
   "source": [
    "train.head()"
   ]
  },
  {
   "cell_type": "code",
   "execution_count": null,
   "id": "flying-banana",
   "metadata": {},
   "outputs": [],
   "source": [
    "train.shape"
   ]
  },
  {
   "cell_type": "markdown",
   "id": "passing-grave",
   "metadata": {},
   "source": [
    "# Getting comfortable with the data\n",
    "* How many features we have? - 26\n",
    "* how to study them individually one by one? - id, categorical"
   ]
  },
  {
   "cell_type": "code",
   "execution_count": null,
   "id": "color-franklin",
   "metadata": {},
   "outputs": [],
   "source": [
    "len(train.columns.tolist())"
   ]
  },
  {
   "cell_type": "code",
   "execution_count": null,
   "id": "democratic-regular",
   "metadata": {},
   "outputs": [],
   "source": [
    "train.columns"
   ]
  },
  {
   "cell_type": "code",
   "execution_count": null,
   "id": "eight-pension",
   "metadata": {},
   "outputs": [],
   "source": [
    "# Number of NaNs for each column\n",
    "train.isnull().sum(axis=0)"
   ]
  },
  {
   "cell_type": "markdown",
   "id": "threatened-compromise",
   "metadata": {},
   "source": [
    "# ID\n",
    "* what does ids represent?\n",
    "* how do they split by id?"
   ]
  },
  {
   "cell_type": "code",
   "execution_count": null,
   "id": "secret-brooks",
   "metadata": {},
   "outputs": [],
   "source": [
    "len(train.id.unique().tolist()), train.shape[0]"
   ]
  },
  {
   "cell_type": "code",
   "execution_count": null,
   "id": "presidential-cartoon",
   "metadata": {},
   "outputs": [],
   "source": [
    "train.id"
   ]
  },
  {
   "cell_type": "code",
   "execution_count": null,
   "id": "adequate-serve",
   "metadata": {},
   "outputs": [],
   "source": [
    "# whare are remaining 200000 observations? test.csv\n",
    "499999, 300000, 200000"
   ]
  },
  {
   "cell_type": "code",
   "execution_count": null,
   "id": "outside-popularity",
   "metadata": {},
   "outputs": [],
   "source": [
    "test = pd.read_csv('test.csv')"
   ]
  },
  {
   "cell_type": "code",
   "execution_count": null,
   "id": "forbidden-eligibility",
   "metadata": {},
   "outputs": [],
   "source": [
    "test.head()"
   ]
  },
  {
   "cell_type": "code",
   "execution_count": null,
   "id": "commercial-dream",
   "metadata": {},
   "outputs": [],
   "source": [
    "test.shape"
   ]
  },
  {
   "cell_type": "code",
   "execution_count": null,
   "id": "bizarre-subdivision",
   "metadata": {},
   "outputs": [],
   "source": [
    "# concatenate train and test set\n",
    "whole = pd.concat([train, test])"
   ]
  },
  {
   "cell_type": "code",
   "execution_count": null,
   "id": "monetary-saturn",
   "metadata": {},
   "outputs": [],
   "source": [
    "whole.shape"
   ]
  },
  {
   "cell_type": "code",
   "execution_count": null,
   "id": "novel-lounge",
   "metadata": {},
   "outputs": [],
   "source": [
    "whole.head()"
   ]
  },
  {
   "cell_type": "code",
   "execution_count": null,
   "id": "regional-litigation",
   "metadata": {},
   "outputs": [],
   "source": [
    "whole = whole.sort_values(by='id', ignore_index=True)"
   ]
  },
  {
   "cell_type": "code",
   "execution_count": null,
   "id": "monthly-squad",
   "metadata": {},
   "outputs": [],
   "source": [
    "# whole.reset_index(inplace=True)"
   ]
  },
  {
   "cell_type": "code",
   "execution_count": null,
   "id": "alone-vulnerability",
   "metadata": {},
   "outputs": [],
   "source": [
    "whole.head()"
   ]
  },
  {
   "cell_type": "code",
   "execution_count": null,
   "id": "hollow-impact",
   "metadata": {},
   "outputs": [],
   "source": [
    "whole.tail()"
   ]
  },
  {
   "cell_type": "code",
   "execution_count": null,
   "id": "limited-milwaukee",
   "metadata": {},
   "outputs": [],
   "source": [
    "# !pip install tables"
   ]
  },
  {
   "cell_type": "code",
   "execution_count": null,
   "id": "compliant-berlin",
   "metadata": {},
   "outputs": [],
   "source": [
    "# whole.to_hdf('whole_df.h5', key='df')"
   ]
  },
  {
   "cell_type": "markdown",
   "id": "descending-celtic",
   "metadata": {},
   "source": [
    "# Categorical Columns"
   ]
  },
  {
   "cell_type": "code",
   "execution_count": null,
   "id": "painted-closer",
   "metadata": {},
   "outputs": [],
   "source": [
    "whole.head()"
   ]
  },
  {
   "cell_type": "code",
   "execution_count": null,
   "id": "severe-joseph",
   "metadata": {},
   "outputs": [],
   "source": [
    "columns = whole.columns.tolist()\n",
    "columns"
   ]
  },
  {
   "cell_type": "code",
   "execution_count": null,
   "id": "ultimate-gather",
   "metadata": {},
   "outputs": [],
   "source": [
    "cat_col = []\n",
    "for col in columns:\n",
    "    if 'cat' in col:\n",
    "        cat_col.append(col)"
   ]
  },
  {
   "cell_type": "code",
   "execution_count": null,
   "id": "turned-efficiency",
   "metadata": {},
   "outputs": [],
   "source": [
    "cat_col"
   ]
  },
  {
   "cell_type": "code",
   "execution_count": null,
   "id": "invalid-spare",
   "metadata": {},
   "outputs": [],
   "source": [
    "cat_df = whole.loc[:, cat_col].copy()"
   ]
  },
  {
   "cell_type": "code",
   "execution_count": null,
   "id": "inclusive-plumbing",
   "metadata": {},
   "outputs": [],
   "source": [
    "cat_df.head()"
   ]
  },
  {
   "cell_type": "code",
   "execution_count": null,
   "id": "general-glance",
   "metadata": {},
   "outputs": [],
   "source": [
    "cat_df.shape"
   ]
  },
  {
   "cell_type": "code",
   "execution_count": null,
   "id": "infectious-spoke",
   "metadata": {},
   "outputs": [],
   "source": [
    "# category number of unique values are sorted by unique counts why?\n",
    "cat_df.nunique()"
   ]
  },
  {
   "cell_type": "code",
   "execution_count": null,
   "id": "graphic-welsh",
   "metadata": {},
   "outputs": [],
   "source": [
    "train_cat = train.loc[:, cat_col].copy()"
   ]
  },
  {
   "cell_type": "code",
   "execution_count": null,
   "id": "weird-contact",
   "metadata": {},
   "outputs": [],
   "source": [
    "test_cat = test.loc[:, cat_col].copy()"
   ]
  },
  {
   "cell_type": "code",
   "execution_count": null,
   "id": "focal-magnitude",
   "metadata": {},
   "outputs": [],
   "source": [
    "train_cat.shape, test_cat.shape"
   ]
  },
  {
   "cell_type": "code",
   "execution_count": null,
   "id": "stuffed-customer",
   "metadata": {},
   "outputs": [],
   "source": [
    "train_cat.head()"
   ]
  },
  {
   "cell_type": "code",
   "execution_count": null,
   "id": "incorrect-theater",
   "metadata": {},
   "outputs": [],
   "source": [
    "test_cat.head()"
   ]
  },
  {
   "cell_type": "code",
   "execution_count": null,
   "id": "creative-taylor",
   "metadata": {},
   "outputs": [],
   "source": [
    "train_enc = pd.DataFrame(index = train_cat.index)\n",
    "\n",
    "for col in train_cat.columns:\n",
    "    train_enc[col] = train_cat[col].factorize()[0]"
   ]
  },
  {
   "cell_type": "code",
   "execution_count": null,
   "id": "partial-niagara",
   "metadata": {},
   "outputs": [],
   "source": [
    "test_enc = pd.DataFrame(index = test_cat.index)\n",
    "\n",
    "for col in test_cat.columns:\n",
    "    test_enc[col] = test_cat[col].factorize()[0]"
   ]
  },
  {
   "cell_type": "code",
   "execution_count": null,
   "id": "copyrighted-upset",
   "metadata": {},
   "outputs": [],
   "source": [
    "train_enc"
   ]
  },
  {
   "cell_type": "code",
   "execution_count": null,
   "id": "british-sending",
   "metadata": {},
   "outputs": [],
   "source": [
    "train_enc.nunique()"
   ]
  },
  {
   "cell_type": "code",
   "execution_count": null,
   "id": "typical-shame",
   "metadata": {},
   "outputs": [],
   "source": [
    "train_enc.describe()"
   ]
  },
  {
   "cell_type": "code",
   "execution_count": null,
   "id": "inner-stevens",
   "metadata": {},
   "outputs": [],
   "source": [
    "train_enc.mean().sort_values()"
   ]
  },
  {
   "cell_type": "code",
   "execution_count": null,
   "id": "heavy-outdoors",
   "metadata": {},
   "outputs": [],
   "source": [
    "test_enc.mean().sort_values()"
   ]
  },
  {
   "cell_type": "code",
   "execution_count": null,
   "id": "developmental-findings",
   "metadata": {},
   "outputs": [],
   "source": [
    "train_con = train.loc[:, con_col].copy()"
   ]
  },
  {
   "cell_type": "code",
   "execution_count": null,
   "id": "asian-portugal",
   "metadata": {},
   "outputs": [],
   "source": [
    "train_con.mean().sort_values()"
   ]
  },
  {
   "cell_type": "code",
   "execution_count": null,
   "id": "legislative-defensive",
   "metadata": {},
   "outputs": [],
   "source": [
    "test_con = test.loc[:, con_col].copy()"
   ]
  },
  {
   "cell_type": "code",
   "execution_count": null,
   "id": "funny-sociology",
   "metadata": {},
   "outputs": [],
   "source": [
    "test_con.mean().sort_values()"
   ]
  },
  {
   "cell_type": "code",
   "execution_count": null,
   "id": "beginning-preparation",
   "metadata": {},
   "outputs": [],
   "source": [
    "con_df.mean().sort_values()"
   ]
  },
  {
   "cell_type": "code",
   "execution_count": null,
   "id": "composed-release",
   "metadata": {},
   "outputs": [],
   "source": [
    "train_enc = pd.DataFrame(index = train_cat.index)\n",
    "\n",
    "for col in train_cat.columns:\n",
    "    train[col] = train_cat[col].factorize()[0]"
   ]
  },
  {
   "cell_type": "code",
   "execution_count": null,
   "id": "objective-perfume",
   "metadata": {},
   "outputs": [],
   "source": [
    "test_enc = pd.DataFrame(index = test_cat.index)\n",
    "\n",
    "for col in test_cat.columns:\n",
    "    test[col] = test_cat[col].factorize()[0]"
   ]
  },
  {
   "cell_type": "code",
   "execution_count": null,
   "id": "referenced-bosnia",
   "metadata": {},
   "outputs": [],
   "source": [
    "train.head().T"
   ]
  },
  {
   "cell_type": "code",
   "execution_count": null,
   "id": "faced-server",
   "metadata": {},
   "outputs": [],
   "source": [
    "test.head().T"
   ]
  },
  {
   "cell_type": "code",
   "execution_count": null,
   "id": "supported-polyester",
   "metadata": {},
   "outputs": [],
   "source": [
    "train_g = train.groupby(['cat1', 'cat3', 'cat5'])"
   ]
  },
  {
   "cell_type": "code",
   "execution_count": null,
   "id": "blond-november",
   "metadata": {},
   "outputs": [],
   "source": [
    "train_g.size()"
   ]
  },
  {
   "cell_type": "code",
   "execution_count": null,
   "id": "israeli-hampshire",
   "metadata": {},
   "outputs": [],
   "source": [
    "train_g.cont10.mean()"
   ]
  },
  {
   "cell_type": "code",
   "execution_count": null,
   "id": "alive-evanescence",
   "metadata": {},
   "outputs": [],
   "source": [
    "import matplotlib.pyplot as plt\n",
    "\n",
    "# and for each index show average relative date versus \n",
    "# the number of rows with that index\n",
    "plt.figure(figsize=(12,12))\n",
    "# what does this graph tell us? \n",
    "plt.scatter(train_g.cont10.mean(),train_g.size(), s=20, c='b')\n",
    "plt.xlabel('Group mean relative date')\n",
    "plt.ylabel('Group size')\n",
    "plt.ylim(-2, 30)\n",
    "plt.title('Train');"
   ]
  },
  {
   "cell_type": "code",
   "execution_count": null,
   "id": "experienced-thanksgiving",
   "metadata": {},
   "outputs": [],
   "source": [
    "test_g = test.groupby(['cat1', 'cat3', 'cat5'])"
   ]
  },
  {
   "cell_type": "code",
   "execution_count": null,
   "id": "experimental-desire",
   "metadata": {},
   "outputs": [],
   "source": [
    "test_g.size()"
   ]
  },
  {
   "cell_type": "code",
   "execution_count": null,
   "id": "noticed-uncertainty",
   "metadata": {},
   "outputs": [],
   "source": [
    "test_g.cont10.mean()"
   ]
  },
  {
   "cell_type": "code",
   "execution_count": null,
   "id": "advisory-james",
   "metadata": {},
   "outputs": [],
   "source": [
    "import matplotlib.pyplot as plt\n",
    "\n",
    "# what does it tell us?\n",
    "# and for each index show average relative date versus \n",
    "# the number of rows with that index\n",
    "plt.figure(figsize=(12,12))\n",
    "plt.scatter(test_g.cont10.mean(),test_g.size(), s=20, c='b')\n",
    "plt.xlabel('Group mean relative date')\n",
    "plt.ylabel('Group size')\n",
    "plt.ylim(-2, 30)\n",
    "plt.title('Test');"
   ]
  },
  {
   "cell_type": "code",
   "execution_count": null,
   "id": "documented-federal",
   "metadata": {},
   "outputs": [],
   "source": [
    "train_cat.nunique().value_counts().value_counts().value_counts()"
   ]
  },
  {
   "cell_type": "code",
   "execution_count": null,
   "id": "automatic-encoding",
   "metadata": {},
   "outputs": [],
   "source": [
    "test_cat.nunique().value_counts().value_counts().value_counts()"
   ]
  },
  {
   "cell_type": "code",
   "execution_count": null,
   "id": "freelance-jackson",
   "metadata": {
    "scrolled": true
   },
   "outputs": [],
   "source": [
    "train_cat['cat6'].value_counts().value_counts()"
   ]
  },
  {
   "cell_type": "code",
   "execution_count": null,
   "id": "correct-recycling",
   "metadata": {},
   "outputs": [],
   "source": [
    "test_cat['cat6'].value_counts().value_counts()"
   ]
  },
  {
   "cell_type": "code",
   "execution_count": null,
   "id": "overall-closer",
   "metadata": {},
   "outputs": [],
   "source": [
    "train_cat['cat7'].value_counts()"
   ]
  },
  {
   "cell_type": "code",
   "execution_count": null,
   "id": "institutional-plumbing",
   "metadata": {},
   "outputs": [],
   "source": [
    "test_cat['cat7'].value_counts()"
   ]
  },
  {
   "cell_type": "code",
   "execution_count": null,
   "id": "cardiovascular-utility",
   "metadata": {
    "scrolled": true
   },
   "outputs": [],
   "source": [
    "train_cat['cat8'].value_counts()"
   ]
  },
  {
   "cell_type": "code",
   "execution_count": null,
   "id": "similar-laundry",
   "metadata": {},
   "outputs": [],
   "source": [
    "test_cat['cat8'].value_counts()"
   ]
  },
  {
   "cell_type": "markdown",
   "id": "established-november",
   "metadata": {},
   "source": [
    "# Binary Features (nunique == 2)"
   ]
  },
  {
   "cell_type": "markdown",
   "id": "generic-mainland",
   "metadata": {},
   "source": [
    "# 2 unique categorical columns"
   ]
  },
  {
   "cell_type": "code",
   "execution_count": null,
   "id": "enormous-grenada",
   "metadata": {},
   "outputs": [],
   "source": [
    "train_cat2 = train_cat.loc[:, train_cat.nunique() == 2].copy()"
   ]
  },
  {
   "cell_type": "code",
   "execution_count": null,
   "id": "expanded-crisis",
   "metadata": {},
   "outputs": [],
   "source": [
    "test_cat2 = test_cat.loc[:, test_cat.nunique() == 2].copy()"
   ]
  },
  {
   "cell_type": "code",
   "execution_count": null,
   "id": "stainless-lemon",
   "metadata": {},
   "outputs": [],
   "source": [
    "train_cat2.shape, test_cat2.shape"
   ]
  },
  {
   "cell_type": "code",
   "execution_count": null,
   "id": "subject-problem",
   "metadata": {},
   "outputs": [],
   "source": [
    "train_enc2 = pd.DataFrame(index = train_cat2.index)\n",
    "\n",
    "for col in train_cat2.columns:\n",
    "    train_enc2[col] = train_cat2[col].factorize()[0]"
   ]
  },
  {
   "cell_type": "code",
   "execution_count": null,
   "id": "limited-salem",
   "metadata": {},
   "outputs": [],
   "source": [
    "test_enc2 = pd.DataFrame(index = test_cat2.index)\n",
    "\n",
    "for col in test_cat2.columns:\n",
    "    test_enc2[col] = test_cat2[col].factorize()[0]"
   ]
  },
  {
   "cell_type": "code",
   "execution_count": null,
   "id": "nervous-electron",
   "metadata": {},
   "outputs": [],
   "source": [
    "train_enc2.shape, test_enc2.shape"
   ]
  },
  {
   "cell_type": "code",
   "execution_count": null,
   "id": "cooked-attribute",
   "metadata": {},
   "outputs": [],
   "source": [
    "train_enc2.head()"
   ]
  },
  {
   "cell_type": "code",
   "execution_count": null,
   "id": "educational-vancouver",
   "metadata": {},
   "outputs": [],
   "source": [
    "test_enc2.head()"
   ]
  },
  {
   "cell_type": "code",
   "execution_count": null,
   "id": "amended-universe",
   "metadata": {},
   "outputs": [],
   "source": [
    "train_enc2['cat0'].head(30)"
   ]
  },
  {
   "cell_type": "code",
   "execution_count": null,
   "id": "continuing-hearing",
   "metadata": {},
   "outputs": [],
   "source": [
    "train_enc2['cat0'].value_counts()"
   ]
  },
  {
   "cell_type": "code",
   "execution_count": null,
   "id": "missing-imperial",
   "metadata": {},
   "outputs": [],
   "source": [
    "test_enc2['cat0'].value_counts()"
   ]
  },
  {
   "cell_type": "code",
   "execution_count": null,
   "id": "otherwise-honey",
   "metadata": {},
   "outputs": [],
   "source": [
    "train_enc2['cat1'].value_counts()"
   ]
  },
  {
   "cell_type": "code",
   "execution_count": null,
   "id": "baking-reduction",
   "metadata": {},
   "outputs": [],
   "source": [
    "test_enc2['cat1'].value_counts()"
   ]
  },
  {
   "cell_type": "code",
   "execution_count": null,
   "id": "wrong-yorkshire",
   "metadata": {},
   "outputs": [],
   "source": [
    "train_enc2['cat2'].value_counts()"
   ]
  },
  {
   "cell_type": "code",
   "execution_count": null,
   "id": "drawn-ethnic",
   "metadata": {},
   "outputs": [],
   "source": [
    "test_enc2['cat2'].value_counts()"
   ]
  },
  {
   "cell_type": "code",
   "execution_count": null,
   "id": "eligible-density",
   "metadata": {},
   "outputs": [],
   "source": [
    "# Number of NaNs for each object\n",
    "train_enc2.isnull().sum(axis=0).head(15)"
   ]
  },
  {
   "cell_type": "code",
   "execution_count": null,
   "id": "cognitive-chance",
   "metadata": {},
   "outputs": [],
   "source": [
    "# Number of NaNs for each object\n",
    "test_enc2.isnull().sum(axis=0).head(15)"
   ]
  },
  {
   "cell_type": "code",
   "execution_count": null,
   "id": "roman-distance",
   "metadata": {},
   "outputs": [],
   "source": [
    "train.isnull().sum()"
   ]
  },
  {
   "cell_type": "code",
   "execution_count": null,
   "id": "central-accent",
   "metadata": {},
   "outputs": [],
   "source": [
    "train.nunique().sort_values()"
   ]
  },
  {
   "cell_type": "code",
   "execution_count": null,
   "id": "hairy-genius",
   "metadata": {},
   "outputs": [],
   "source": [
    "test.nunique().sort_values()"
   ]
  },
  {
   "cell_type": "code",
   "execution_count": null,
   "id": "congressional-affiliate",
   "metadata": {},
   "outputs": [],
   "source": [
    "import numpy as np\n",
    "\n",
    "# see if columns are duplicate are not?\n",
    "dup_cols = {}\n",
    "\n",
    "for i, c1 in enumerate(train_enc2.columns):\n",
    "    for c2 in train_enc2.columns[i + 1:]:\n",
    "        if c2 not in dup_cols and np.all(train_enc2[c1] == train_enc2[c2]):\n",
    "            dup_cols[c2] = c1"
   ]
  },
  {
   "cell_type": "code",
   "execution_count": null,
   "id": "nutritional-justice",
   "metadata": {},
   "outputs": [],
   "source": [
    "dup_cols"
   ]
  },
  {
   "cell_type": "code",
   "execution_count": null,
   "id": "latter-complaint",
   "metadata": {},
   "outputs": [],
   "source": [
    "train_enc2"
   ]
  },
  {
   "cell_type": "code",
   "execution_count": null,
   "id": "hydraulic-appraisal",
   "metadata": {},
   "outputs": [],
   "source": [
    "import matplotlib.pyplot as plt"
   ]
  },
  {
   "cell_type": "code",
   "execution_count": null,
   "id": "lightweight-whale",
   "metadata": {},
   "outputs": [],
   "source": [
    "nunique = train.nunique()"
   ]
  },
  {
   "cell_type": "code",
   "execution_count": null,
   "id": "sacred-meaning",
   "metadata": {},
   "outputs": [],
   "source": [
    "nunique"
   ]
  },
  {
   "cell_type": "code",
   "execution_count": null,
   "id": "proper-grenada",
   "metadata": {},
   "outputs": [],
   "source": [
    "# histogram of number of unique values with respect to total number of values\n",
    "plt.figure(figsize=(14,6))\n",
    "_ = plt.hist(nunique.astype(float)/train.shape[0], bins=100)"
   ]
  },
  {
   "cell_type": "code",
   "execution_count": null,
   "id": "aware-equality",
   "metadata": {},
   "outputs": [],
   "source": [
    "cat_df2 = cat_df.loc[:, cat_df.nunique() == 2].copy()"
   ]
  },
  {
   "cell_type": "code",
   "execution_count": null,
   "id": "religious-facial",
   "metadata": {},
   "outputs": [],
   "source": [
    "cat_df2.head(30)"
   ]
  },
  {
   "cell_type": "code",
   "execution_count": null,
   "id": "eight-federation",
   "metadata": {},
   "outputs": [],
   "source": [
    "train_enc2 =  pd.DataFrame(index = cat_df2.index)\n",
    "\n",
    "for col in cat_df2.columns:\n",
    "    train_enc2[col] = cat_df2[col].factorize()[0]"
   ]
  },
  {
   "cell_type": "code",
   "execution_count": null,
   "id": "altered-tanzania",
   "metadata": {},
   "outputs": [],
   "source": [
    "train_enc2"
   ]
  },
  {
   "cell_type": "code",
   "execution_count": null,
   "id": "enabling-business",
   "metadata": {},
   "outputs": [],
   "source": [
    "train_enc2.head(30)"
   ]
  },
  {
   "cell_type": "code",
   "execution_count": null,
   "id": "short-contributor",
   "metadata": {},
   "outputs": [],
   "source": [
    "train_enc2['cat0'].value_counts()"
   ]
  },
  {
   "cell_type": "code",
   "execution_count": null,
   "id": "requested-gilbert",
   "metadata": {},
   "outputs": [],
   "source": [
    "train_enc2['cat1'].value_counts()"
   ]
  },
  {
   "cell_type": "code",
   "execution_count": null,
   "id": "russian-impression",
   "metadata": {},
   "outputs": [],
   "source": [
    "train_enc2['cat2'].value_counts()"
   ]
  },
  {
   "cell_type": "markdown",
   "id": "better-associate",
   "metadata": {},
   "source": [
    "# 4 unique categorical columns"
   ]
  },
  {
   "cell_type": "code",
   "execution_count": null,
   "id": "alpha-mason",
   "metadata": {},
   "outputs": [],
   "source": [
    "cat_df4 = cat_df.loc[:, cat_df.nunique() == 4].copy()"
   ]
  },
  {
   "cell_type": "code",
   "execution_count": null,
   "id": "competitive-consequence",
   "metadata": {},
   "outputs": [],
   "source": [
    "cat_df4.head(30)"
   ]
  },
  {
   "cell_type": "code",
   "execution_count": null,
   "id": "mathematical-frame",
   "metadata": {},
   "outputs": [],
   "source": [
    "train_enc4 =  pd.DataFrame(index = cat_df4.index)\n",
    "\n",
    "for col in cat_df4.columns:\n",
    "    train_enc4[col] = cat_df4[col].factorize()[0]"
   ]
  },
  {
   "cell_type": "code",
   "execution_count": null,
   "id": "warming-consortium",
   "metadata": {},
   "outputs": [],
   "source": [
    "train_enc4"
   ]
  },
  {
   "cell_type": "code",
   "execution_count": null,
   "id": "violent-initial",
   "metadata": {},
   "outputs": [],
   "source": [
    "train_enc4.head(30)"
   ]
  },
  {
   "cell_type": "markdown",
   "id": "continent-companion",
   "metadata": {},
   "source": [
    "# 8 unique categorical columns"
   ]
  },
  {
   "cell_type": "code",
   "execution_count": null,
   "id": "standard-adelaide",
   "metadata": {},
   "outputs": [],
   "source": [
    "cat_df8 = cat_df.loc[:, cat_df.nunique() == 8].copy()"
   ]
  },
  {
   "cell_type": "code",
   "execution_count": null,
   "id": "western-necklace",
   "metadata": {},
   "outputs": [],
   "source": [
    "cat_df8.head(30)"
   ]
  },
  {
   "cell_type": "code",
   "execution_count": null,
   "id": "nutritional-elimination",
   "metadata": {},
   "outputs": [],
   "source": [
    "train_enc8 =  pd.DataFrame(index = cat_df8.index)\n",
    "\n",
    "for col in cat_df8.columns:\n",
    "    train_enc8[col] = cat_df8[col].factorize()[0]"
   ]
  },
  {
   "cell_type": "code",
   "execution_count": null,
   "id": "comparative-dependence",
   "metadata": {},
   "outputs": [],
   "source": [
    "train_enc8"
   ]
  },
  {
   "cell_type": "code",
   "execution_count": null,
   "id": "golden-logging",
   "metadata": {},
   "outputs": [],
   "source": [
    "train_enc8.head(30)"
   ]
  },
  {
   "cell_type": "markdown",
   "id": "unlike-external",
   "metadata": {},
   "source": [
    "# 7 unique categorical columns"
   ]
  },
  {
   "cell_type": "code",
   "execution_count": null,
   "id": "academic-belly",
   "metadata": {},
   "outputs": [],
   "source": [
    "train_cat7 = train_cat.loc[:, train_cat.nunique() == 7].copy()"
   ]
  },
  {
   "cell_type": "code",
   "execution_count": null,
   "id": "possible-celebrity",
   "metadata": {},
   "outputs": [],
   "source": [
    "test_cat7 = test_cat.loc[:, test_cat.nunique() == 7].copy()"
   ]
  },
  {
   "cell_type": "code",
   "execution_count": null,
   "id": "guilty-causing",
   "metadata": {},
   "outputs": [],
   "source": [
    "train_cat7.shape, test_cat7.shape"
   ]
  },
  {
   "cell_type": "code",
   "execution_count": null,
   "id": "material-journalist",
   "metadata": {},
   "outputs": [],
   "source": [
    "train_cat7"
   ]
  },
  {
   "cell_type": "code",
   "execution_count": null,
   "id": "approximate-invalid",
   "metadata": {},
   "outputs": [],
   "source": [
    "test_cat7.head()"
   ]
  },
  {
   "cell_type": "code",
   "execution_count": null,
   "id": "valid-excellence",
   "metadata": {},
   "outputs": [],
   "source": [
    "train_cat7.value_counts()"
   ]
  },
  {
   "cell_type": "code",
   "execution_count": null,
   "id": "hired-orange",
   "metadata": {},
   "outputs": [],
   "source": [
    "test_cat7['cat8'].value_counts()"
   ]
  },
  {
   "cell_type": "code",
   "execution_count": null,
   "id": "saving-productivity",
   "metadata": {},
   "outputs": [],
   "source": [
    "test_cat7['cat6'].value_counts()"
   ]
  },
  {
   "cell_type": "code",
   "execution_count": null,
   "id": "incredible-meeting",
   "metadata": {},
   "outputs": [],
   "source": [
    "train_enc7 = pd.DataFrame(index = train_cat7.index)\n",
    "\n",
    "for col in train_cat7.columns:\n",
    "    train_enc2[col] = train_cat7[col].factorize()[0]"
   ]
  },
  {
   "cell_type": "code",
   "execution_count": null,
   "id": "greek-reach",
   "metadata": {},
   "outputs": [],
   "source": [
    "test_enc7 = pd.DataFrame(index = test_cat7.index)\n",
    "\n",
    "for col in test_cat7.columns:\n",
    "    test_enc2[col] = test_cat7[col].factorize()[0]"
   ]
  },
  {
   "cell_type": "code",
   "execution_count": null,
   "id": "numeric-discharge",
   "metadata": {},
   "outputs": [],
   "source": [
    "train_enc7.head()"
   ]
  },
  {
   "cell_type": "code",
   "execution_count": null,
   "id": "prerequisite-parking",
   "metadata": {},
   "outputs": [],
   "source": [
    "cat_df7 = cat_df.loc[:, cat_df.nunique() == 7].copy()"
   ]
  },
  {
   "cell_type": "code",
   "execution_count": null,
   "id": "painful-freight",
   "metadata": {},
   "outputs": [],
   "source": [
    "cat_df7.head(30)"
   ]
  },
  {
   "cell_type": "code",
   "execution_count": null,
   "id": "informed-rolling",
   "metadata": {},
   "outputs": [],
   "source": [
    "train_enc7 =  pd.DataFrame(index = cat_df7.index)\n",
    "\n",
    "for col in cat_df7.columns:\n",
    "    train_enc7[col] = cat_df7[col].factorize()[0]"
   ]
  },
  {
   "cell_type": "code",
   "execution_count": null,
   "id": "solar-feeding",
   "metadata": {},
   "outputs": [],
   "source": [
    "train_enc7"
   ]
  },
  {
   "cell_type": "code",
   "execution_count": null,
   "id": "senior-boating",
   "metadata": {},
   "outputs": [],
   "source": [
    "train_enc7.head(30)"
   ]
  },
  {
   "cell_type": "code",
   "execution_count": null,
   "id": "faced-feature",
   "metadata": {},
   "outputs": [],
   "source": [
    "train_enc7['cat8'].value_counts().sort_values()"
   ]
  },
  {
   "cell_type": "code",
   "execution_count": null,
   "id": "threaded-combine",
   "metadata": {},
   "outputs": [],
   "source": [
    "# if we assume cat8 as weekly features, the most return are on monday (assuming sunday as day 0)"
   ]
  },
  {
   "cell_type": "code",
   "execution_count": null,
   "id": "legitimate-warrant",
   "metadata": {},
   "outputs": [],
   "source": [
    "train_enc7['cat8'].value_counts().sort_index()"
   ]
  },
  {
   "cell_type": "markdown",
   "id": "primary-huntington",
   "metadata": {},
   "source": [
    "# 15 unique categorical columns"
   ]
  },
  {
   "cell_type": "code",
   "execution_count": null,
   "id": "relevant-dietary",
   "metadata": {},
   "outputs": [],
   "source": [
    "cat_df15 = cat_df.loc[:, cat_df.nunique() == 15].copy()"
   ]
  },
  {
   "cell_type": "code",
   "execution_count": null,
   "id": "aerial-luxury",
   "metadata": {},
   "outputs": [],
   "source": [
    "cat_df15.head(30)"
   ]
  },
  {
   "cell_type": "code",
   "execution_count": null,
   "id": "signed-chile",
   "metadata": {},
   "outputs": [],
   "source": [
    "train_enc15 =  pd.DataFrame(index = cat_df15.index)\n",
    "\n",
    "for col in cat_df15.columns:\n",
    "    train_enc15[col] = cat_df15[col].factorize()[0]"
   ]
  },
  {
   "cell_type": "code",
   "execution_count": null,
   "id": "public-index",
   "metadata": {},
   "outputs": [],
   "source": [
    "train_enc15"
   ]
  },
  {
   "cell_type": "code",
   "execution_count": null,
   "id": "offshore-metabolism",
   "metadata": {},
   "outputs": [],
   "source": [
    "train_enc15.head(30)"
   ]
  },
  {
   "cell_type": "markdown",
   "id": "electric-evolution",
   "metadata": {},
   "source": [
    "# Continous Columns"
   ]
  },
  {
   "cell_type": "code",
   "execution_count": null,
   "id": "environmental-avenue",
   "metadata": {},
   "outputs": [],
   "source": [
    "whole.head()"
   ]
  },
  {
   "cell_type": "code",
   "execution_count": null,
   "id": "exposed-consistency",
   "metadata": {},
   "outputs": [],
   "source": [
    "columns = whole.columns.tolist()\n",
    "columns"
   ]
  },
  {
   "cell_type": "code",
   "execution_count": null,
   "id": "tutorial-commonwealth",
   "metadata": {},
   "outputs": [],
   "source": [
    "con_col = []\n",
    "for col in columns:\n",
    "    if 'cont' in col:\n",
    "        con_col.append(col)"
   ]
  },
  {
   "cell_type": "code",
   "execution_count": null,
   "id": "classical-basin",
   "metadata": {
    "scrolled": true
   },
   "outputs": [],
   "source": [
    "con_col"
   ]
  },
  {
   "cell_type": "code",
   "execution_count": null,
   "id": "neutral-belarus",
   "metadata": {},
   "outputs": [],
   "source": [
    "con_df = whole.loc[:, con_col].copy()"
   ]
  },
  {
   "cell_type": "code",
   "execution_count": null,
   "id": "pregnant-celebrity",
   "metadata": {
    "scrolled": true
   },
   "outputs": [],
   "source": [
    "con_df.head()"
   ]
  },
  {
   "cell_type": "code",
   "execution_count": null,
   "id": "announced-cameroon",
   "metadata": {},
   "outputs": [],
   "source": [
    "con_df.shape"
   ]
  },
  {
   "cell_type": "code",
   "execution_count": null,
   "id": "periodic-temperature",
   "metadata": {},
   "outputs": [],
   "source": [
    "# how are continous values sorted?\n",
    "con_df.nunique()"
   ]
  },
  {
   "cell_type": "code",
   "execution_count": null,
   "id": "subtle-riverside",
   "metadata": {
    "scrolled": true
   },
   "outputs": [],
   "source": [
    "con_df.nunique().sort_values()"
   ]
  },
  {
   "cell_type": "code",
   "execution_count": null,
   "id": "civilian-sunrise",
   "metadata": {
    "scrolled": true
   },
   "outputs": [],
   "source": [
    "con_df.describe()"
   ]
  },
  {
   "cell_type": "code",
   "execution_count": null,
   "id": "waiting-vacation",
   "metadata": {},
   "outputs": [],
   "source": [
    "con_df.mean().sort_values()"
   ]
  },
  {
   "cell_type": "code",
   "execution_count": null,
   "id": "juvenile-cardiff",
   "metadata": {},
   "outputs": [],
   "source": [
    "con_df.std().sort_values()"
   ]
  },
  {
   "cell_type": "code",
   "execution_count": null,
   "id": "inner-teacher",
   "metadata": {},
   "outputs": [],
   "source": [
    "con_df.min().sort_values()"
   ]
  },
  {
   "cell_type": "code",
   "execution_count": null,
   "id": "incorrect-smell",
   "metadata": {},
   "outputs": [],
   "source": [
    "con_df.max().sort_values()"
   ]
  },
  {
   "cell_type": "code",
   "execution_count": null,
   "id": "color-reset",
   "metadata": {},
   "outputs": [],
   "source": []
  },
  {
   "cell_type": "markdown",
   "id": "monetary-columbia",
   "metadata": {},
   "source": [
    "# Target"
   ]
  },
  {
   "cell_type": "code",
   "execution_count": null,
   "id": "center-basket",
   "metadata": {},
   "outputs": [],
   "source": [
    "whole['target']"
   ]
  },
  {
   "cell_type": "code",
   "execution_count": null,
   "id": "textile-oracle",
   "metadata": {},
   "outputs": [],
   "source": [
    "train.shape, test.shape"
   ]
  },
  {
   "cell_type": "code",
   "execution_count": null,
   "id": "personal-promotion",
   "metadata": {},
   "outputs": [],
   "source": [
    "train.id.tolist()"
   ]
  },
  {
   "cell_type": "markdown",
   "id": "conditional-broadcasting",
   "metadata": {},
   "source": [
    "# How to create validation set same as test set?\n",
    "* what is the difference between testset and training set?"
   ]
  },
  {
   "cell_type": "code",
   "execution_count": null,
   "id": "initial-decision",
   "metadata": {},
   "outputs": [],
   "source": [
    "train.shape, test.shape"
   ]
  },
  {
   "cell_type": "code",
   "execution_count": null,
   "id": "decent-reserve",
   "metadata": {},
   "outputs": [],
   "source": [
    "train.columns"
   ]
  },
  {
   "cell_type": "code",
   "execution_count": null,
   "id": "welsh-organizer",
   "metadata": {},
   "outputs": [],
   "source": [
    "test.columns"
   ]
  },
  {
   "cell_type": "code",
   "execution_count": null,
   "id": "multiple-convertible",
   "metadata": {},
   "outputs": [],
   "source": [
    "train['cat0'], test['cat0']"
   ]
  },
  {
   "cell_type": "code",
   "execution_count": null,
   "id": "literary-track",
   "metadata": {},
   "outputs": [],
   "source": [
    "train.loc[:, ['id', 'cat0']]"
   ]
  },
  {
   "cell_type": "code",
   "execution_count": null,
   "id": "combined-accounting",
   "metadata": {},
   "outputs": [],
   "source": [
    "test.loc[:, ['id', 'cat1']]"
   ]
  },
  {
   "cell_type": "markdown",
   "id": "documentary-wireless",
   "metadata": {},
   "source": [
    "# Continous features"
   ]
  },
  {
   "cell_type": "code",
   "execution_count": null,
   "id": "administrative-taste",
   "metadata": {},
   "outputs": [],
   "source": [
    "# features with huge number of unique values: continous"
   ]
  },
  {
   "cell_type": "code",
   "execution_count": null,
   "id": "stable-oregon",
   "metadata": {},
   "outputs": [],
   "source": [
    "columns = whole.columns.tolist()"
   ]
  },
  {
   "cell_type": "code",
   "execution_count": null,
   "id": "spectacular-quest",
   "metadata": {},
   "outputs": [],
   "source": [
    "con_col = []\n",
    "for col in columns:\n",
    "    if 'con' in col:\n",
    "        con_col.append(col)"
   ]
  },
  {
   "cell_type": "code",
   "execution_count": null,
   "id": "cleared-certificate",
   "metadata": {},
   "outputs": [],
   "source": [
    "con_col"
   ]
  },
  {
   "cell_type": "code",
   "execution_count": null,
   "id": "induced-merchandise",
   "metadata": {},
   "outputs": [],
   "source": [
    "train_con = train.loc[:, con_col].copy()"
   ]
  },
  {
   "cell_type": "code",
   "execution_count": null,
   "id": "apart-timer",
   "metadata": {},
   "outputs": [],
   "source": [
    "test_con = test.loc[:, con_col].copy()"
   ]
  },
  {
   "cell_type": "code",
   "execution_count": null,
   "id": "vietnamese-assumption",
   "metadata": {},
   "outputs": [],
   "source": [
    "train_con.shape, test_con.shape"
   ]
  },
  {
   "cell_type": "code",
   "execution_count": null,
   "id": "stainless-detective",
   "metadata": {},
   "outputs": [],
   "source": [
    "train_con.head()"
   ]
  },
  {
   "cell_type": "code",
   "execution_count": null,
   "id": "embedded-turkey",
   "metadata": {},
   "outputs": [],
   "source": [
    "test_con.head()"
   ]
  },
  {
   "cell_type": "code",
   "execution_count": null,
   "id": "ordered-canberra",
   "metadata": {},
   "outputs": [],
   "source": [
    "train_con['cont0'].value_counts().sort_index()"
   ]
  },
  {
   "cell_type": "code",
   "execution_count": null,
   "id": "right-oxide",
   "metadata": {},
   "outputs": [],
   "source": [
    "test_con['cont0'].value_counts().sort_index()"
   ]
  },
  {
   "cell_type": "code",
   "execution_count": null,
   "id": "expressed-thumb",
   "metadata": {},
   "outputs": [],
   "source": [
    "train_con['cont1'].value_counts().sort_index()"
   ]
  },
  {
   "cell_type": "code",
   "execution_count": null,
   "id": "latter-sweden",
   "metadata": {},
   "outputs": [],
   "source": [
    "test_con['cont1'].value_counts().sort_index()"
   ]
  },
  {
   "cell_type": "code",
   "execution_count": null,
   "id": "marine-cylinder",
   "metadata": {},
   "outputs": [],
   "source": [
    "train_con.describe()"
   ]
  },
  {
   "cell_type": "code",
   "execution_count": null,
   "id": "facial-highlight",
   "metadata": {},
   "outputs": [],
   "source": [
    "# are columns standard scale? their minimum is -0 to max +1?"
   ]
  },
  {
   "cell_type": "code",
   "execution_count": null,
   "id": "willing-savage",
   "metadata": {
    "scrolled": true
   },
   "outputs": [],
   "source": [
    "test_con.describe()"
   ]
  },
  {
   "cell_type": "code",
   "execution_count": null,
   "id": "personalized-ivory",
   "metadata": {},
   "outputs": [],
   "source": [
    "# if we concatenate training and test data\n",
    "whole.describe()"
   ]
  },
  {
   "cell_type": "code",
   "execution_count": null,
   "id": "brazilian-gauge",
   "metadata": {},
   "outputs": [],
   "source": [
    "train.id.min(), train.id.max(), train.shape"
   ]
  },
  {
   "cell_type": "code",
   "execution_count": null,
   "id": "brown-impact",
   "metadata": {},
   "outputs": [],
   "source": [
    "train.target.min(), train.target.max(), train.shape"
   ]
  },
  {
   "cell_type": "code",
   "execution_count": null,
   "id": "bored-exchange",
   "metadata": {},
   "outputs": [],
   "source": [
    "train.target.describe()"
   ]
  },
  {
   "cell_type": "code",
   "execution_count": null,
   "id": "cooked-slave",
   "metadata": {},
   "outputs": [],
   "source": [
    "# import random forest fit the data and see which features are most important?"
   ]
  },
  {
   "cell_type": "code",
   "execution_count": null,
   "id": "athletic-charge",
   "metadata": {},
   "outputs": [],
   "source": [
    "# from sklearn.ensemble import RandomForestRegressor"
   ]
  },
  {
   "cell_type": "code",
   "execution_count": null,
   "id": "collaborative-console",
   "metadata": {},
   "outputs": [],
   "source": [
    "# Create a copy to work with\n",
    "# X = train.copy()"
   ]
  },
  {
   "cell_type": "code",
   "execution_count": null,
   "id": "approximate-instrumentation",
   "metadata": {},
   "outputs": [],
   "source": [
    "# Save and drop labels\n",
    "# y = train.target\n",
    "# X = train.drop('target', axis=1)"
   ]
  },
  {
   "cell_type": "code",
   "execution_count": null,
   "id": "balanced-story",
   "metadata": {},
   "outputs": [],
   "source": [
    "# fill NANs\n",
    "# X = X.fillna(-999)"
   ]
  },
  {
   "cell_type": "code",
   "execution_count": null,
   "id": "efficient-terrorist",
   "metadata": {},
   "outputs": [],
   "source": [
    "# Label encoder\n",
    "# for c in train.columns[train.dtypes == 'object']:\n",
    "#     X[c] = X[c].factorize()[0]"
   ]
  },
  {
   "cell_type": "code",
   "execution_count": null,
   "id": "aging-sigma",
   "metadata": {},
   "outputs": [],
   "source": [
    "# rf = RandomForestRegressor(n_jobs=-1)"
   ]
  },
  {
   "cell_type": "code",
   "execution_count": null,
   "id": "horizontal-chrome",
   "metadata": {},
   "outputs": [],
   "source": [
    "# takes more than an hour\n",
    "# %%time\n",
    "# rf.fit(X,y)"
   ]
  },
  {
   "cell_type": "code",
   "execution_count": null,
   "id": "varied-classic",
   "metadata": {},
   "outputs": [],
   "source": [
    "# import numpy as np\n",
    "# import matplotlib.pyplot as plt"
   ]
  },
  {
   "cell_type": "code",
   "execution_count": null,
   "id": "executed-waters",
   "metadata": {},
   "outputs": [],
   "source": [
    "# plt.plot(rf.feature_importances_)\n",
    "# plt.xticks(np.arange(X.shape[1]), X.columns.tolist(), rotation=90);"
   ]
  },
  {
   "cell_type": "code",
   "execution_count": null,
   "id": "radical-bedroom",
   "metadata": {},
   "outputs": [],
   "source": [
    "# most important feature\n",
    "train['cont0']"
   ]
  },
  {
   "cell_type": "code",
   "execution_count": null,
   "id": "directed-kazakhstan",
   "metadata": {},
   "outputs": [],
   "source": [
    "test['cont0']"
   ]
  },
  {
   "cell_type": "code",
   "execution_count": null,
   "id": "greatest-complex",
   "metadata": {},
   "outputs": [],
   "source": [
    "whole['cont0']"
   ]
  },
  {
   "cell_type": "code",
   "execution_count": null,
   "id": "advanced-bottom",
   "metadata": {},
   "outputs": [],
   "source": [
    "train['cont0'].min(), train['cont0'].max(), train['cont0'].mean(), train['cont0'].std()"
   ]
  },
  {
   "cell_type": "code",
   "execution_count": null,
   "id": "welsh-glenn",
   "metadata": {},
   "outputs": [],
   "source": [
    "test['cont0'].min(), test['cont0'].max(), test['cont0'].mean(), test['cont0'].std()"
   ]
  },
  {
   "cell_type": "code",
   "execution_count": null,
   "id": "certain-bishop",
   "metadata": {
    "scrolled": true
   },
   "outputs": [],
   "source": [
    "whole['cont0'].min(), whole['cont0'].max(), whole['cont0'].mean(), whole['cont0'].std()"
   ]
  },
  {
   "cell_type": "code",
   "execution_count": null,
   "id": "relevant-arbor",
   "metadata": {},
   "outputs": [],
   "source": [
    "train['cont0'].value_counts()"
   ]
  },
  {
   "cell_type": "code",
   "execution_count": null,
   "id": "another-grocery",
   "metadata": {},
   "outputs": [],
   "source": [
    "cont0_unique = train.cont0.unique()"
   ]
  },
  {
   "cell_type": "code",
   "execution_count": null,
   "id": "arbitrary-insulation",
   "metadata": {},
   "outputs": [],
   "source": [
    "import numpy as np\n",
    "\n",
    "np.set_printoptions(edgeitems=30, linewidth=100000, \n",
    "    formatter=dict(float=lambda x: \"%.3g\" % x))"
   ]
  },
  {
   "cell_type": "code",
   "execution_count": null,
   "id": "color-budapest",
   "metadata": {},
   "outputs": [],
   "source": [
    "cont0_unique_sorted = np.sort(cont0_unique)"
   ]
  },
  {
   "cell_type": "code",
   "execution_count": null,
   "id": "smaller-nightlife",
   "metadata": {},
   "outputs": [],
   "source": [
    "cont0_unique_sorted.shape"
   ]
  },
  {
   "cell_type": "code",
   "execution_count": null,
   "id": "focused-talent",
   "metadata": {},
   "outputs": [],
   "source": [
    "cont0_diff = np.diff(cont0_unique_sorted)"
   ]
  },
  {
   "cell_type": "code",
   "execution_count": null,
   "id": "dominant-upper",
   "metadata": {},
   "outputs": [],
   "source": [
    "cont0_diff.shape"
   ]
  },
  {
   "cell_type": "code",
   "execution_count": null,
   "id": "senior-peace",
   "metadata": {},
   "outputs": [],
   "source": [
    "cont0_diff_unique = np.unique(cont0_diff)"
   ]
  },
  {
   "cell_type": "code",
   "execution_count": null,
   "id": "determined-contrast",
   "metadata": {},
   "outputs": [],
   "source": [
    "cont0_diff_unique.shape"
   ]
  },
  {
   "cell_type": "code",
   "execution_count": null,
   "id": "transparent-lloyd",
   "metadata": {},
   "outputs": [],
   "source": [
    "# if feature are scaled are minmaxscaler can we reverse engineer it?"
   ]
  },
  {
   "cell_type": "code",
   "execution_count": null,
   "id": "distinct-hazard",
   "metadata": {},
   "outputs": [],
   "source": [
    "max_val = max(whole['cont0'])\n",
    "min_val = min(whole['cont0'])"
   ]
  },
  {
   "cell_type": "code",
   "execution_count": null,
   "id": "bulgarian-documentary",
   "metadata": {},
   "outputs": [],
   "source": [
    "def rev_min_max_func(scaled_val):\n",
    "    max_val = 1.0526659962511695\n",
    "    min_val = -0.0935053605494934\n",
    "    og_val = (scaled_val*(max_val - min_val)) + min_val\n",
    "    return og_val"
   ]
  },
  {
   "cell_type": "code",
   "execution_count": null,
   "id": "musical-league",
   "metadata": {},
   "outputs": [],
   "source": [
    "whole['cont0_orig'] = whole['cont0'].apply(lambda x: rev_min_max_func(x))"
   ]
  },
  {
   "cell_type": "code",
   "execution_count": null,
   "id": "above-librarian",
   "metadata": {},
   "outputs": [],
   "source": [
    "whole.loc[:, ['cont0', 'cont0_orig']]"
   ]
  },
  {
   "cell_type": "code",
   "execution_count": null,
   "id": "alert-hunter",
   "metadata": {},
   "outputs": [],
   "source": [
    "whole['cont0_orig'].min(), whole['cont0_orig'].max(), whole['cont0_orig'].mean(), whole['cont0_orig'].std()"
   ]
  },
  {
   "cell_type": "code",
   "execution_count": null,
   "id": "impressed-bacteria",
   "metadata": {},
   "outputs": [],
   "source": [
    "whole['cont0'].plot();"
   ]
  },
  {
   "cell_type": "code",
   "execution_count": null,
   "id": "positive-gilbert",
   "metadata": {},
   "outputs": [],
   "source": [
    "whole.dtypes"
   ]
  },
  {
   "cell_type": "code",
   "execution_count": null,
   "id": "analyzed-deviation",
   "metadata": {},
   "outputs": [],
   "source": [
    "whole.nunique()"
   ]
  },
  {
   "cell_type": "code",
   "execution_count": null,
   "id": "adapted-american",
   "metadata": {},
   "outputs": [],
   "source": [
    "# cat7+cat8 = cat9\n",
    "cat789 = whole.loc[:, ['cat7', 'cat8', 'cat9']].copy()"
   ]
  },
  {
   "cell_type": "code",
   "execution_count": null,
   "id": "great-application",
   "metadata": {},
   "outputs": [],
   "source": [
    "cat_enc789 = pd.DataFrame(index = cat789.index)\n",
    "\n",
    "for col in cat789.columns:\n",
    "    cat_enc789[col] = cat789[col].factorize()[0]"
   ]
  },
  {
   "cell_type": "code",
   "execution_count": null,
   "id": "interested-authority",
   "metadata": {},
   "outputs": [],
   "source": [
    "cat_enc789"
   ]
  },
  {
   "cell_type": "code",
   "execution_count": null,
   "id": "upset-minutes",
   "metadata": {},
   "outputs": [],
   "source": [
    "cat_enc789.sort_values('cat9').head(30)"
   ]
  },
  {
   "cell_type": "markdown",
   "id": "potential-portugal",
   "metadata": {},
   "source": [
    "# weekly features?"
   ]
  },
  {
   "cell_type": "code",
   "execution_count": null,
   "id": "embedded-regression",
   "metadata": {},
   "outputs": [],
   "source": [
    "train.head()"
   ]
  },
  {
   "cell_type": "code",
   "execution_count": null,
   "id": "hispanic-idaho",
   "metadata": {},
   "outputs": [],
   "source": [
    "test.head()"
   ]
  },
  {
   "cell_type": "code",
   "execution_count": null,
   "id": "guilty-flooring",
   "metadata": {},
   "outputs": [],
   "source": [
    "train['cat0'].unique()"
   ]
  },
  {
   "cell_type": "code",
   "execution_count": null,
   "id": "generous-daily",
   "metadata": {},
   "outputs": [],
   "source": [
    "train['cont4'].min(), train['cont4'].max()"
   ]
  },
  {
   "cell_type": "code",
   "execution_count": null,
   "id": "vocal-lambda",
   "metadata": {},
   "outputs": [],
   "source": []
  }
 ],
 "metadata": {
  "kernelspec": {
   "display_name": "Python 3",
   "language": "python",
   "name": "python3"
  },
  "language_info": {
   "codemirror_mode": {
    "name": "ipython",
    "version": 3
   },
   "file_extension": ".py",
   "mimetype": "text/x-python",
   "name": "python",
   "nbconvert_exporter": "python",
   "pygments_lexer": "ipython3",
   "version": "3.9.1"
  }
 },
 "nbformat": 4,
 "nbformat_minor": 5
}
