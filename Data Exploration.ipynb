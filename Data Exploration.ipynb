{
 "cells": [
  {
   "cell_type": "code",
   "execution_count": null,
   "id": "political-equipment",
   "metadata": {},
   "outputs": [],
   "source": [
    "!dir"
   ]
  },
  {
   "cell_type": "code",
   "execution_count": null,
   "id": "novel-terminology",
   "metadata": {},
   "outputs": [],
   "source": [
    "import pandas as pd"
   ]
  },
  {
   "cell_type": "code",
   "execution_count": null,
   "id": "catholic-wagner",
   "metadata": {},
   "outputs": [],
   "source": [
    "train = pd.read_csv('train.csv')"
   ]
  },
  {
   "cell_type": "code",
   "execution_count": null,
   "id": "automotive-distributor",
   "metadata": {},
   "outputs": [],
   "source": [
    "train.head()"
   ]
  },
  {
   "cell_type": "code",
   "execution_count": null,
   "id": "flying-banana",
   "metadata": {},
   "outputs": [],
   "source": [
    "train.shape"
   ]
  },
  {
   "cell_type": "markdown",
   "id": "passing-grave",
   "metadata": {},
   "source": [
    "# Getting comfortable with the data\n",
    "* How many features we have? - 26\n",
    "* how to study them individually one by one? - id, categorical"
   ]
  },
  {
   "cell_type": "code",
   "execution_count": null,
   "id": "color-franklin",
   "metadata": {},
   "outputs": [],
   "source": [
    "len(train.columns.tolist())"
   ]
  },
  {
   "cell_type": "code",
   "execution_count": null,
   "id": "democratic-regular",
   "metadata": {},
   "outputs": [],
   "source": [
    "train.columns"
   ]
  },
  {
   "cell_type": "markdown",
   "id": "threatened-compromise",
   "metadata": {},
   "source": [
    "# ID"
   ]
  },
  {
   "cell_type": "code",
   "execution_count": null,
   "id": "secret-brooks",
   "metadata": {},
   "outputs": [],
   "source": [
    "len(train.id.unique().tolist()), train.shape[0]"
   ]
  },
  {
   "cell_type": "code",
   "execution_count": null,
   "id": "presidential-cartoon",
   "metadata": {},
   "outputs": [],
   "source": [
    "train.id"
   ]
  },
  {
   "cell_type": "code",
   "execution_count": null,
   "id": "adequate-serve",
   "metadata": {},
   "outputs": [],
   "source": [
    "# whare are remaining 200000 observations? test.csv\n",
    "499999, 300000, 200000"
   ]
  },
  {
   "cell_type": "code",
   "execution_count": null,
   "id": "outside-popularity",
   "metadata": {},
   "outputs": [],
   "source": [
    "test = pd.read_csv('test.csv')"
   ]
  },
  {
   "cell_type": "code",
   "execution_count": null,
   "id": "forbidden-eligibility",
   "metadata": {},
   "outputs": [],
   "source": [
    "test.head()"
   ]
  },
  {
   "cell_type": "code",
   "execution_count": null,
   "id": "commercial-dream",
   "metadata": {},
   "outputs": [],
   "source": [
    "test.shape"
   ]
  },
  {
   "cell_type": "code",
   "execution_count": null,
   "id": "bizarre-subdivision",
   "metadata": {},
   "outputs": [],
   "source": [
    "# concatenate train and test set\n",
    "whole = pd.concat([train, test])"
   ]
  },
  {
   "cell_type": "code",
   "execution_count": null,
   "id": "monetary-saturn",
   "metadata": {},
   "outputs": [],
   "source": [
    "whole.shape"
   ]
  },
  {
   "cell_type": "code",
   "execution_count": null,
   "id": "novel-lounge",
   "metadata": {},
   "outputs": [],
   "source": [
    "whole.head()"
   ]
  },
  {
   "cell_type": "code",
   "execution_count": null,
   "id": "regional-litigation",
   "metadata": {},
   "outputs": [],
   "source": [
    "whole = whole.sort_values(by='id', ignore_index=True)"
   ]
  },
  {
   "cell_type": "code",
   "execution_count": null,
   "id": "monthly-squad",
   "metadata": {},
   "outputs": [],
   "source": [
    "# whole.reset_index(inplace=True)"
   ]
  },
  {
   "cell_type": "code",
   "execution_count": null,
   "id": "alone-vulnerability",
   "metadata": {},
   "outputs": [],
   "source": [
    "whole.head()"
   ]
  },
  {
   "cell_type": "code",
   "execution_count": null,
   "id": "hollow-impact",
   "metadata": {},
   "outputs": [],
   "source": [
    "whole.tail()"
   ]
  },
  {
   "cell_type": "code",
   "execution_count": null,
   "id": "limited-milwaukee",
   "metadata": {},
   "outputs": [],
   "source": [
    "# !pip install tables"
   ]
  },
  {
   "cell_type": "code",
   "execution_count": null,
   "id": "compliant-berlin",
   "metadata": {},
   "outputs": [],
   "source": [
    "# whole.to_hdf('whole_df.h5', key='df')"
   ]
  },
  {
   "cell_type": "markdown",
   "id": "descending-celtic",
   "metadata": {},
   "source": [
    "# Categorical Columns"
   ]
  },
  {
   "cell_type": "code",
   "execution_count": null,
   "id": "painted-closer",
   "metadata": {},
   "outputs": [],
   "source": [
    "whole.head()"
   ]
  },
  {
   "cell_type": "code",
   "execution_count": null,
   "id": "severe-joseph",
   "metadata": {},
   "outputs": [],
   "source": [
    "columns = whole.columns.tolist()\n",
    "columns"
   ]
  },
  {
   "cell_type": "code",
   "execution_count": null,
   "id": "ultimate-gather",
   "metadata": {},
   "outputs": [],
   "source": [
    "cat_col = []\n",
    "for col in columns:\n",
    "    if 'cat' in col:\n",
    "        cat_col.append(col)"
   ]
  },
  {
   "cell_type": "code",
   "execution_count": null,
   "id": "turned-efficiency",
   "metadata": {},
   "outputs": [],
   "source": [
    "cat_col"
   ]
  },
  {
   "cell_type": "code",
   "execution_count": null,
   "id": "invalid-spare",
   "metadata": {},
   "outputs": [],
   "source": [
    "cat_df = whole.loc[:, cat_col].copy()"
   ]
  },
  {
   "cell_type": "code",
   "execution_count": null,
   "id": "inclusive-plumbing",
   "metadata": {},
   "outputs": [],
   "source": [
    "cat_df.head()"
   ]
  },
  {
   "cell_type": "code",
   "execution_count": null,
   "id": "general-glance",
   "metadata": {},
   "outputs": [],
   "source": [
    "cat_df.shape"
   ]
  },
  {
   "cell_type": "code",
   "execution_count": null,
   "id": "infectious-spoke",
   "metadata": {},
   "outputs": [],
   "source": [
    "cat_df.nunique()"
   ]
  },
  {
   "cell_type": "markdown",
   "id": "established-november",
   "metadata": {},
   "source": [
    "# 2 unique categorical columns"
   ]
  },
  {
   "cell_type": "code",
   "execution_count": null,
   "id": "aware-equality",
   "metadata": {},
   "outputs": [],
   "source": [
    "cat_df2 = cat_df.loc[:, cat_df.nunique() == 2].copy()"
   ]
  },
  {
   "cell_type": "code",
   "execution_count": null,
   "id": "religious-facial",
   "metadata": {},
   "outputs": [],
   "source": [
    "cat_df2.head(30)"
   ]
  },
  {
   "cell_type": "code",
   "execution_count": null,
   "id": "eight-federation",
   "metadata": {},
   "outputs": [],
   "source": [
    "train_enc2 =  pd.DataFrame(index = cat_df2.index)\n",
    "\n",
    "for col in cat_df2.columns:\n",
    "    train_enc2[col] = cat_df2[col].factorize()[0]"
   ]
  },
  {
   "cell_type": "code",
   "execution_count": null,
   "id": "altered-tanzania",
   "metadata": {},
   "outputs": [],
   "source": [
    "train_enc2"
   ]
  },
  {
   "cell_type": "code",
   "execution_count": null,
   "id": "enabling-business",
   "metadata": {},
   "outputs": [],
   "source": [
    "train_enc2.head(30)"
   ]
  },
  {
   "cell_type": "markdown",
   "id": "better-associate",
   "metadata": {},
   "source": [
    "# 4 unique categorical columns"
   ]
  },
  {
   "cell_type": "code",
   "execution_count": null,
   "id": "alpha-mason",
   "metadata": {},
   "outputs": [],
   "source": [
    "cat_df4 = cat_df.loc[:, cat_df.nunique() == 4].copy()"
   ]
  },
  {
   "cell_type": "code",
   "execution_count": null,
   "id": "competitive-consequence",
   "metadata": {},
   "outputs": [],
   "source": [
    "cat_df4.head(30)"
   ]
  },
  {
   "cell_type": "code",
   "execution_count": null,
   "id": "mathematical-frame",
   "metadata": {},
   "outputs": [],
   "source": [
    "train_enc4 =  pd.DataFrame(index = cat_df4.index)\n",
    "\n",
    "for col in cat_df4.columns:\n",
    "    train_enc4[col] = cat_df4[col].factorize()[0]"
   ]
  },
  {
   "cell_type": "code",
   "execution_count": null,
   "id": "warming-consortium",
   "metadata": {},
   "outputs": [],
   "source": [
    "train_enc4"
   ]
  },
  {
   "cell_type": "code",
   "execution_count": null,
   "id": "violent-initial",
   "metadata": {},
   "outputs": [],
   "source": [
    "train_enc4.head(30)"
   ]
  },
  {
   "cell_type": "markdown",
   "id": "continent-companion",
   "metadata": {},
   "source": [
    "# 8 unique categorical columns"
   ]
  },
  {
   "cell_type": "code",
   "execution_count": null,
   "id": "standard-adelaide",
   "metadata": {},
   "outputs": [],
   "source": [
    "cat_df8 = cat_df.loc[:, cat_df.nunique() == 8].copy()"
   ]
  },
  {
   "cell_type": "code",
   "execution_count": null,
   "id": "western-necklace",
   "metadata": {},
   "outputs": [],
   "source": [
    "cat_df8.head(30)"
   ]
  },
  {
   "cell_type": "code",
   "execution_count": null,
   "id": "nutritional-elimination",
   "metadata": {},
   "outputs": [],
   "source": [
    "train_enc8 =  pd.DataFrame(index = cat_df8.index)\n",
    "\n",
    "for col in cat_df8.columns:\n",
    "    train_enc8[col] = cat_df8[col].factorize()[0]"
   ]
  },
  {
   "cell_type": "code",
   "execution_count": null,
   "id": "comparative-dependence",
   "metadata": {},
   "outputs": [],
   "source": [
    "train_enc8"
   ]
  },
  {
   "cell_type": "code",
   "execution_count": null,
   "id": "golden-logging",
   "metadata": {},
   "outputs": [],
   "source": [
    "train_enc8.head(30)"
   ]
  },
  {
   "cell_type": "markdown",
   "id": "unlike-external",
   "metadata": {},
   "source": [
    "# 7 unique categorical columns"
   ]
  },
  {
   "cell_type": "code",
   "execution_count": null,
   "id": "prerequisite-parking",
   "metadata": {},
   "outputs": [],
   "source": [
    "cat_df7 = cat_df.loc[:, cat_df.nunique() == 7].copy()"
   ]
  },
  {
   "cell_type": "code",
   "execution_count": null,
   "id": "painful-freight",
   "metadata": {},
   "outputs": [],
   "source": [
    "cat_df7.head(30)"
   ]
  },
  {
   "cell_type": "code",
   "execution_count": null,
   "id": "informed-rolling",
   "metadata": {},
   "outputs": [],
   "source": [
    "train_enc7 =  pd.DataFrame(index = cat_df7.index)\n",
    "\n",
    "for col in cat_df7.columns:\n",
    "    train_enc7[col] = cat_df7[col].factorize()[0]"
   ]
  },
  {
   "cell_type": "code",
   "execution_count": null,
   "id": "solar-feeding",
   "metadata": {},
   "outputs": [],
   "source": [
    "train_enc7"
   ]
  },
  {
   "cell_type": "code",
   "execution_count": null,
   "id": "senior-boating",
   "metadata": {},
   "outputs": [],
   "source": [
    "train_enc7.head(30)"
   ]
  },
  {
   "cell_type": "markdown",
   "id": "primary-huntington",
   "metadata": {},
   "source": [
    "# 15 unique categorical columns"
   ]
  },
  {
   "cell_type": "code",
   "execution_count": null,
   "id": "relevant-dietary",
   "metadata": {},
   "outputs": [],
   "source": [
    "cat_df15 = cat_df.loc[:, cat_df.nunique() == 15].copy()"
   ]
  },
  {
   "cell_type": "code",
   "execution_count": null,
   "id": "aerial-luxury",
   "metadata": {},
   "outputs": [],
   "source": [
    "cat_df15.head(30)"
   ]
  },
  {
   "cell_type": "code",
   "execution_count": null,
   "id": "signed-chile",
   "metadata": {},
   "outputs": [],
   "source": [
    "train_enc15 =  pd.DataFrame(index = cat_df15.index)\n",
    "\n",
    "for col in cat_df15.columns:\n",
    "    train_enc15[col] = cat_df15[col].factorize()[0]"
   ]
  },
  {
   "cell_type": "code",
   "execution_count": null,
   "id": "public-index",
   "metadata": {},
   "outputs": [],
   "source": [
    "train_enc15"
   ]
  },
  {
   "cell_type": "code",
   "execution_count": null,
   "id": "offshore-metabolism",
   "metadata": {},
   "outputs": [],
   "source": [
    "train_enc15.head(30)"
   ]
  },
  {
   "cell_type": "markdown",
   "id": "electric-evolution",
   "metadata": {},
   "source": [
    "# Continous Columns"
   ]
  },
  {
   "cell_type": "code",
   "execution_count": null,
   "id": "environmental-avenue",
   "metadata": {},
   "outputs": [],
   "source": [
    "whole.head()"
   ]
  },
  {
   "cell_type": "code",
   "execution_count": null,
   "id": "exposed-consistency",
   "metadata": {},
   "outputs": [],
   "source": [
    "columns = whole.columns.tolist()\n",
    "columns"
   ]
  },
  {
   "cell_type": "code",
   "execution_count": null,
   "id": "tutorial-commonwealth",
   "metadata": {},
   "outputs": [],
   "source": [
    "con_col = []\n",
    "for col in columns:\n",
    "    if 'cont' in col:\n",
    "        con_col.append(col)"
   ]
  },
  {
   "cell_type": "code",
   "execution_count": null,
   "id": "classical-basin",
   "metadata": {
    "scrolled": true
   },
   "outputs": [],
   "source": [
    "con_col"
   ]
  },
  {
   "cell_type": "code",
   "execution_count": null,
   "id": "neutral-belarus",
   "metadata": {},
   "outputs": [],
   "source": [
    "con_df = whole.loc[:, con_col].copy()"
   ]
  },
  {
   "cell_type": "code",
   "execution_count": null,
   "id": "pregnant-celebrity",
   "metadata": {
    "scrolled": true
   },
   "outputs": [],
   "source": [
    "con_df.head()"
   ]
  },
  {
   "cell_type": "code",
   "execution_count": null,
   "id": "announced-cameroon",
   "metadata": {},
   "outputs": [],
   "source": [
    "con_df.shape"
   ]
  },
  {
   "cell_type": "code",
   "execution_count": null,
   "id": "subtle-riverside",
   "metadata": {
    "scrolled": true
   },
   "outputs": [],
   "source": [
    "con_df.nunique().sort_values()"
   ]
  },
  {
   "cell_type": "code",
   "execution_count": null,
   "id": "civilian-sunrise",
   "metadata": {
    "scrolled": true
   },
   "outputs": [],
   "source": [
    "con_df.describe()"
   ]
  },
  {
   "cell_type": "markdown",
   "id": "monetary-columbia",
   "metadata": {},
   "source": [
    "# Target"
   ]
  },
  {
   "cell_type": "code",
   "execution_count": null,
   "id": "center-basket",
   "metadata": {},
   "outputs": [],
   "source": [
    "whole['target']"
   ]
  },
  {
   "cell_type": "code",
   "execution_count": null,
   "id": "textile-oracle",
   "metadata": {},
   "outputs": [],
   "source": [
    "train.shape, test.shape"
   ]
  },
  {
   "cell_type": "code",
   "execution_count": null,
   "id": "personal-promotion",
   "metadata": {},
   "outputs": [],
   "source": [
    "train.id.tolist()"
   ]
  },
  {
   "cell_type": "markdown",
   "id": "conditional-broadcasting",
   "metadata": {},
   "source": [
    "# How to create validation set same as test set?\n",
    "* what is the difference between testset and training set?"
   ]
  },
  {
   "cell_type": "code",
   "execution_count": null,
   "id": "initial-decision",
   "metadata": {},
   "outputs": [],
   "source": [
    "train.shape, test.shape"
   ]
  },
  {
   "cell_type": "code",
   "execution_count": null,
   "id": "decent-reserve",
   "metadata": {},
   "outputs": [],
   "source": [
    "train.columns"
   ]
  },
  {
   "cell_type": "code",
   "execution_count": null,
   "id": "welsh-organizer",
   "metadata": {},
   "outputs": [],
   "source": [
    "test.columns"
   ]
  },
  {
   "cell_type": "code",
   "execution_count": null,
   "id": "multiple-convertible",
   "metadata": {},
   "outputs": [],
   "source": [
    "train['cat0'], test['cat0']"
   ]
  },
  {
   "cell_type": "code",
   "execution_count": null,
   "id": "literary-track",
   "metadata": {},
   "outputs": [],
   "source": [
    "train.loc[:, ['id', 'cat0']]"
   ]
  },
  {
   "cell_type": "code",
   "execution_count": null,
   "id": "combined-accounting",
   "metadata": {},
   "outputs": [],
   "source": [
    "test.loc[:, ['id', 'cat1']]"
   ]
  },
  {
   "cell_type": "markdown",
   "id": "amino-apache",
   "metadata": {},
   "source": [
    "# let's concatenate and study the data"
   ]
  },
  {
   "cell_type": "code",
   "execution_count": null,
   "id": "corresponding-prisoner",
   "metadata": {},
   "outputs": [],
   "source": [
    "# concatenate train and test set\n",
    "whole = pd.concat([train, test])"
   ]
  },
  {
   "cell_type": "code",
   "execution_count": null,
   "id": "prompt-sigma",
   "metadata": {},
   "outputs": [],
   "source": [
    "whole.shape"
   ]
  },
  {
   "cell_type": "code",
   "execution_count": null,
   "id": "animal-findings",
   "metadata": {},
   "outputs": [],
   "source": [
    "whole.head()"
   ]
  },
  {
   "cell_type": "code",
   "execution_count": null,
   "id": "formal-gregory",
   "metadata": {},
   "outputs": [],
   "source": [
    "whole = whole.sort_values(by='id', ignore_index=True)"
   ]
  },
  {
   "cell_type": "code",
   "execution_count": null,
   "id": "still-disposition",
   "metadata": {},
   "outputs": [],
   "source": [
    "whole.head()"
   ]
  },
  {
   "cell_type": "code",
   "execution_count": null,
   "id": "amended-retention",
   "metadata": {},
   "outputs": [],
   "source": [
    "whole.shape"
   ]
  },
  {
   "cell_type": "code",
   "execution_count": null,
   "id": "necessary-fishing",
   "metadata": {},
   "outputs": [],
   "source": [
    "whole.loc[:,'id']"
   ]
  },
  {
   "cell_type": "code",
   "execution_count": null,
   "id": "primary-stranger",
   "metadata": {},
   "outputs": [],
   "source": [
    "whole.loc[:, 'target']"
   ]
  },
  {
   "cell_type": "code",
   "execution_count": null,
   "id": "aging-medicare",
   "metadata": {},
   "outputs": [],
   "source": [
    "whole.loc[:, 'cat0']"
   ]
  },
  {
   "cell_type": "markdown",
   "id": "intelligent-acting",
   "metadata": {},
   "source": [
    "# visualize categorical columns"
   ]
  },
  {
   "cell_type": "code",
   "execution_count": null,
   "id": "informed-vacuum",
   "metadata": {},
   "outputs": [],
   "source": [
    "columns = whole.columns.tolist()"
   ]
  },
  {
   "cell_type": "code",
   "execution_count": null,
   "id": "generic-amazon",
   "metadata": {},
   "outputs": [],
   "source": [
    "cat_col = []\n",
    "for col in columns:\n",
    "    if 'cat' in col:\n",
    "        cat_col.append(col)"
   ]
  },
  {
   "cell_type": "code",
   "execution_count": null,
   "id": "committed-listing",
   "metadata": {},
   "outputs": [],
   "source": [
    "cat_col"
   ]
  },
  {
   "cell_type": "code",
   "execution_count": null,
   "id": "bigger-british",
   "metadata": {},
   "outputs": [],
   "source": [
    "train_cat = train.loc[:, cat_col].copy()"
   ]
  },
  {
   "cell_type": "code",
   "execution_count": null,
   "id": "relative-religion",
   "metadata": {},
   "outputs": [],
   "source": [
    "test_cat = test.loc[:, cat_col].copy()"
   ]
  },
  {
   "cell_type": "code",
   "execution_count": null,
   "id": "little-melissa",
   "metadata": {},
   "outputs": [],
   "source": [
    "train_cat.shape, test_cat.shape"
   ]
  },
  {
   "cell_type": "code",
   "execution_count": null,
   "id": "adult-stone",
   "metadata": {},
   "outputs": [],
   "source": [
    "train_cat.head()"
   ]
  },
  {
   "cell_type": "code",
   "execution_count": null,
   "id": "revolutionary-tennis",
   "metadata": {},
   "outputs": [],
   "source": [
    "test_cat.head()"
   ]
  },
  {
   "cell_type": "code",
   "execution_count": null,
   "id": "distant-repair",
   "metadata": {},
   "outputs": [],
   "source": [
    "cat_df = whole.loc[:, cat_col].copy()"
   ]
  },
  {
   "cell_type": "code",
   "execution_count": null,
   "id": "sitting-titanium",
   "metadata": {},
   "outputs": [],
   "source": [
    "cat_df.head()"
   ]
  },
  {
   "cell_type": "code",
   "execution_count": null,
   "id": "characteristic-index",
   "metadata": {},
   "outputs": [],
   "source": [
    "cat_df.shape"
   ]
  },
  {
   "cell_type": "code",
   "execution_count": null,
   "id": "israeli-irrigation",
   "metadata": {},
   "outputs": [],
   "source": [
    "cat_df.nunique()"
   ]
  },
  {
   "cell_type": "markdown",
   "id": "heard-present",
   "metadata": {},
   "source": [
    "# 2 unique categorical columns"
   ]
  },
  {
   "cell_type": "code",
   "execution_count": null,
   "id": "innocent-mauritius",
   "metadata": {},
   "outputs": [],
   "source": [
    "train_cat2 = train_cat.loc[:, train_cat.nunique() == 2].copy()"
   ]
  },
  {
   "cell_type": "code",
   "execution_count": null,
   "id": "interested-joshua",
   "metadata": {},
   "outputs": [],
   "source": [
    "test_cat2 = test_cat.loc[:, test_cat.nunique() == 2].copy()"
   ]
  },
  {
   "cell_type": "code",
   "execution_count": null,
   "id": "hidden-henry",
   "metadata": {},
   "outputs": [],
   "source": [
    "train_cat2.shape, test_cat2.shape"
   ]
  },
  {
   "cell_type": "code",
   "execution_count": null,
   "id": "third-howard",
   "metadata": {},
   "outputs": [],
   "source": [
    "train_enc2 = pd.DataFrame(index = train_cat2.index)\n",
    "\n",
    "for col in train_cat2.columns:\n",
    "    train_enc2[col] = train_cat2[col].factorize()[0]"
   ]
  },
  {
   "cell_type": "code",
   "execution_count": null,
   "id": "colonial-rubber",
   "metadata": {},
   "outputs": [],
   "source": [
    "test_enc2 = pd.DataFrame(index = test_cat2.index)\n",
    "\n",
    "for col in test_cat2.columns:\n",
    "    test_enc2[col] = test_cat2[col].factorize()[0]"
   ]
  },
  {
   "cell_type": "code",
   "execution_count": null,
   "id": "flying-morris",
   "metadata": {},
   "outputs": [],
   "source": [
    "train_enc2.shape, test_enc2.shape"
   ]
  },
  {
   "cell_type": "code",
   "execution_count": null,
   "id": "moving-technician",
   "metadata": {},
   "outputs": [],
   "source": [
    "train_enc2.head()"
   ]
  },
  {
   "cell_type": "code",
   "execution_count": null,
   "id": "valuable-devil",
   "metadata": {},
   "outputs": [],
   "source": [
    "test_enc2.head()"
   ]
  },
  {
   "cell_type": "code",
   "execution_count": null,
   "id": "enclosed-filling",
   "metadata": {},
   "outputs": [],
   "source": [
    "train_enc2['cat0'].value_counts()"
   ]
  },
  {
   "cell_type": "code",
   "execution_count": null,
   "id": "offshore-veteran",
   "metadata": {},
   "outputs": [],
   "source": [
    "test_enc2['cat0'].value_counts()"
   ]
  },
  {
   "cell_type": "code",
   "execution_count": null,
   "id": "optimum-approval",
   "metadata": {},
   "outputs": [],
   "source": []
  }
 ],
 "metadata": {
  "kernelspec": {
   "display_name": "Python 3",
   "language": "python",
   "name": "python3"
  },
  "language_info": {
   "codemirror_mode": {
    "name": "ipython",
    "version": 3
   },
   "file_extension": ".py",
   "mimetype": "text/x-python",
   "name": "python",
   "nbconvert_exporter": "python",
   "pygments_lexer": "ipython3",
   "version": "3.9.1"
  }
 },
 "nbformat": 4,
 "nbformat_minor": 5
}
